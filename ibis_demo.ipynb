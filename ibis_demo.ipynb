{
 "cells": [
  {
   "cell_type": "markdown",
   "metadata": {},
   "source": [
    "# Ibis demo\n",
    "\n",
    "Ibisはpandasの作者[Wes](https://github.com/wesm)が作ったライブラリです。\n",
    "pandasと大規模データをつなぐ橋渡しをします。\n",
    "\n",
    "pandasだとメモリに載せた処理が必須でしたが、Ibisは裏側にSQLエンジンを使うことで、大規模データをあたかもDataFrameを扱うようにプログラマブルにpandas likeな処理ができます。\n",
    "\n",
    "今回のデモでは、IbisとImpalaを組み合わせてデータの傾向を可視化して確認しながら、機械学習のモデルを作ります。"
   ]
  },
  {
   "cell_type": "code",
   "execution_count": 1,
   "metadata": {
    "collapsed": true
   },
   "outputs": [],
   "source": [
    "import ibis\n",
    "import os\n",
    "ibis.options.interactive = True"
   ]
  },
  {
   "cell_type": "code",
   "execution_count": 2,
   "metadata": {
    "collapsed": false
   },
   "outputs": [],
   "source": [
    "# Connection\n",
    "hdfs_port = os.environ.get('IBIS_WEBHDFS_PORT', 50070)\n",
    "hdfs_host = os.environ.get('HDFS_HOST','localhost')\n",
    "hdfs = ibis.hdfs_connect(host=hdfs_host, port=hdfs_port)\n",
    "\n",
    "impala_port = os.environ.get('IMPALA_PORT', 21050)\n",
    "impala_host = os.environ.get('IMPALA_HOST','localhost')\n",
    "con = ibis.impala.connect(host=impala_host, port=impala_port, database='default',\n",
    "                          hdfs_client=hdfs)"
   ]
  },
  {
   "cell_type": "markdown",
   "metadata": {},
   "source": [
    "## Cloudera Managerのサンプルデータで試してみる"
   ]
  },
  {
   "cell_type": "code",
   "execution_count": 3,
   "metadata": {
    "collapsed": false,
    "scrolled": false
   },
   "outputs": [
    {
     "data": {
      "text/plain": [
       "['code', 'description', 'total_emp', 'salary']"
      ]
     },
     "execution_count": 3,
     "metadata": {},
     "output_type": "execute_result"
    }
   ],
   "source": [
    "table = con.table('sample_07')\n",
    "table.columns"
   ]
  },
  {
   "cell_type": "code",
   "execution_count": 4,
   "metadata": {
    "collapsed": false,
    "scrolled": true
   },
   "outputs": [
    {
     "data": {
      "text/plain": [
       "        code                                        description  total_emp  \\\n",
       "0    00-0000                                    All Occupations  134354250   \n",
       "1    11-0000                             Management occupations    6003930   \n",
       "2    11-1011                                   Chief executives     299160   \n",
       "3    11-1021                    General and operations managers    1655410   \n",
       "4    11-1031                                        Legislators      61110   \n",
       "5    11-2011                Advertising and promotions managers      36300   \n",
       "6    11-2021                                 Marketing managers     165240   \n",
       "7    11-2022                                     Sales managers     322170   \n",
       "8    11-2031                          Public relations managers      47210   \n",
       "9    11-3011                   Administrative services managers     239360   \n",
       "10   11-3021          Computer and information systems managers     264990   \n",
       "11   11-3031                                 Financial managers     484390   \n",
       "12   11-3041                 Compensation and benefits managers      41780   \n",
       "13   11-3042                  Training and development managers      28170   \n",
       "14   11-3049                Human resources managers, all other      58100   \n",
       "15   11-3051                     Industrial production managers     152870   \n",
       "16   11-3061                                Purchasing managers      65600   \n",
       "17   11-3071  Transportation, storage, and distribution mana...      92790   \n",
       "18   11-9011       Farm, ranch, and other agricultural managers       3480   \n",
       "19   11-9012                               Farmers and ranchers        340   \n",
       "20   11-9021                              Construction managers     216120   \n",
       "21   11-9031  Education administrators, preschool and child ...      47980   \n",
       "22   11-9032  Education administrators, elementary and secon...     218820   \n",
       "23   11-9033            Education administrators, postsecondary     101160   \n",
       "24   11-9039                Education administrators, all other      28640   \n",
       "25   11-9041                               Engineering managers     184410   \n",
       "26   11-9051                              Food service managers     191460   \n",
       "27   11-9061                                  Funeral directors      24020   \n",
       "28   11-9071                                    Gaming managers       3740   \n",
       "29   11-9081                                   Lodging managers      31890   \n",
       "..       ...                                                ...        ...   \n",
       "793  53-4041                     Subway and streetcar operators       6600   \n",
       "794  53-4099             Rail transportation workers, all other       5210   \n",
       "795  53-5011                          Sailors and marine oilers      32520   \n",
       "796  53-5021       Captains, mates, and pilots of water vessels      30540   \n",
       "797  53-5022                                Motorboat operators       3250   \n",
       "798  53-5031                                     Ship engineers      13710   \n",
       "799  53-6011                            Bridge and lock tenders       4750   \n",
       "800  53-6021                             Parking lot attendants     131860   \n",
       "801  53-6031                         Service station attendants      93140   \n",
       "802  53-6041                                Traffic technicians       6550   \n",
       "803  53-6051                          Transportation inspectors      24130   \n",
       "804  53-6099                  Transportation workers, all other      46720   \n",
       "805  53-7011                     Conveyor operators and tenders      45580   \n",
       "806  53-7021                          Crane and tower operators      45720   \n",
       "807  53-7031                                   Dredge operators       1910   \n",
       "808  53-7032  Excavating and loading machine and dragline op...      68040   \n",
       "809  53-7033      Loading machine operators, underground mining       2770   \n",
       "810  53-7041                          Hoist and winch operators       3220   \n",
       "811  53-7051             Industrial truck and tractor operators     630700   \n",
       "812  53-7061                 Cleaners of vehicles and equipment     336210   \n",
       "813  53-7062  Laborers and freight, stock, and material move...    2363440   \n",
       "814  53-7063                     Machine feeders and offbearers     143140   \n",
       "815  53-7064                        Packers and packagers, hand     798450   \n",
       "816  53-7071   Gas compressor and gas pumping station operators       4230   \n",
       "817  53-7072            Pump operators, except wellhead pumpers      10400   \n",
       "818  53-7073                                   Wellhead pumpers      15780   \n",
       "819  53-7081          Refuse and recyclable material collectors     126270   \n",
       "820  53-7111                              Shuttle car operators       2660   \n",
       "821  53-7121                  Tank car, truck, and ship loaders      14870   \n",
       "822  53-7199                 Material moving workers, all other      43840   \n",
       "\n",
       "       salary  \n",
       "0     40690.0  \n",
       "1     96150.0  \n",
       "2    151370.0  \n",
       "3    103780.0  \n",
       "4     33880.0  \n",
       "5     91100.0  \n",
       "6    113400.0  \n",
       "7    106790.0  \n",
       "8     97170.0  \n",
       "9     76370.0  \n",
       "10   113880.0  \n",
       "11   106200.0  \n",
       "12    88400.0  \n",
       "13    90300.0  \n",
       "14    99810.0  \n",
       "15    87550.0  \n",
       "16    90430.0  \n",
       "17    81980.0  \n",
       "18    61030.0  \n",
       "19    42480.0  \n",
       "20    85830.0  \n",
       "21    44430.0  \n",
       "22    82120.0  \n",
       "23    85870.0  \n",
       "24    74230.0  \n",
       "25   115610.0  \n",
       "26    48660.0  \n",
       "27    57660.0  \n",
       "28    69600.0  \n",
       "29    51140.0  \n",
       "..        ...  \n",
       "793   47740.0  \n",
       "794   38730.0  \n",
       "795   34050.0  \n",
       "796   62720.0  \n",
       "797   36570.0  \n",
       "798   61680.0  \n",
       "799   38120.0  \n",
       "800   19320.0  \n",
       "801   19720.0  \n",
       "802   40150.0  \n",
       "803   57050.0  \n",
       "804   34330.0  \n",
       "805   29020.0  \n",
       "806   42940.0  \n",
       "807   38320.0  \n",
       "808   36990.0  \n",
       "809   41980.0  \n",
       "810   39190.0  \n",
       "811   29760.0  \n",
       "812   20870.0  \n",
       "813   23840.0  \n",
       "814   25260.0  \n",
       "815   20320.0  \n",
       "816   44590.0  \n",
       "817   40660.0  \n",
       "818   37680.0  \n",
       "819   31410.0  \n",
       "820   41300.0  \n",
       "821   35820.0  \n",
       "822   33170.0  \n",
       "\n",
       "[823 rows x 4 columns]"
      ]
     },
     "execution_count": 4,
     "metadata": {},
     "output_type": "execute_result"
    }
   ],
   "source": [
    "table"
   ]
  },
  {
   "cell_type": "markdown",
   "metadata": {},
   "source": [
    "### tableのメタ情報を見る"
   ]
  },
  {
   "cell_type": "code",
   "execution_count": 5,
   "metadata": {
    "collapsed": false
   },
   "outputs": [
    {
     "data": {
      "text/plain": [
       "'hdfs://ip-10-0-3-147.ap-northeast-1.compute.internal:8020/user/hive/warehouse/sample_07'"
      ]
     },
     "execution_count": 5,
     "metadata": {},
     "output_type": "execute_result"
    }
   ],
   "source": [
    "meta = table.metadata()\n",
    "meta.location"
   ]
  },
  {
   "cell_type": "code",
   "execution_count": 6,
   "metadata": {
    "collapsed": false
   },
   "outputs": [
    {
     "data": {
      "text/html": [
       "<div>\n",
       "<table border=\"1\" class=\"dataframe\">\n",
       "  <thead>\n",
       "    <tr style=\"text-align: right;\">\n",
       "      <th></th>\n",
       "      <th>Path</th>\n",
       "      <th>Size</th>\n",
       "      <th>Partition</th>\n",
       "    </tr>\n",
       "  </thead>\n",
       "  <tbody>\n",
       "    <tr>\n",
       "      <th>0</th>\n",
       "      <td>hdfs://ip-10-0-3-147.ap-northeast-1.compute.in...</td>\n",
       "      <td>44.98KB</td>\n",
       "      <td></td>\n",
       "    </tr>\n",
       "  </tbody>\n",
       "</table>\n",
       "</div>"
      ],
      "text/plain": [
       "                                                Path     Size Partition\n",
       "0  hdfs://ip-10-0-3-147.ap-northeast-1.compute.in...  44.98KB          "
      ]
     },
     "execution_count": 6,
     "metadata": {},
     "output_type": "execute_result"
    }
   ],
   "source": [
    "table.files()"
   ]
  },
  {
   "cell_type": "code",
   "execution_count": 7,
   "metadata": {
    "collapsed": false
   },
   "outputs": [
    {
     "data": {
      "text/html": [
       "<div>\n",
       "<table border=\"1\" class=\"dataframe\">\n",
       "  <thead>\n",
       "    <tr style=\"text-align: right;\">\n",
       "      <th></th>\n",
       "      <th>#Rows</th>\n",
       "      <th>#Files</th>\n",
       "      <th>Size</th>\n",
       "      <th>Bytes Cached</th>\n",
       "      <th>Cache Replication</th>\n",
       "      <th>Format</th>\n",
       "      <th>Incremental stats</th>\n",
       "      <th>Location</th>\n",
       "    </tr>\n",
       "  </thead>\n",
       "  <tbody>\n",
       "    <tr>\n",
       "      <th>0</th>\n",
       "      <td>823</td>\n",
       "      <td>1</td>\n",
       "      <td>44.98KB</td>\n",
       "      <td>NOT CACHED</td>\n",
       "      <td>NOT CACHED</td>\n",
       "      <td>TEXT</td>\n",
       "      <td>false</td>\n",
       "      <td>hdfs://ip-10-0-3-147.ap-northeast-1.compute.in...</td>\n",
       "    </tr>\n",
       "  </tbody>\n",
       "</table>\n",
       "</div>"
      ],
      "text/plain": [
       "   #Rows  #Files     Size Bytes Cached Cache Replication Format  \\\n",
       "0    823       1  44.98KB   NOT CACHED        NOT CACHED   TEXT   \n",
       "\n",
       "  Incremental stats                                           Location  \n",
       "0             false  hdfs://ip-10-0-3-147.ap-northeast-1.compute.in...  "
      ]
     },
     "execution_count": 7,
     "metadata": {},
     "output_type": "execute_result"
    }
   ],
   "source": [
    "table.stats()"
   ]
  },
  {
   "cell_type": "code",
   "execution_count": 8,
   "metadata": {
    "collapsed": false
   },
   "outputs": [
    {
     "data": {
      "text/html": [
       "<div>\n",
       "<table border=\"1\" class=\"dataframe\">\n",
       "  <thead>\n",
       "    <tr style=\"text-align: right;\">\n",
       "      <th></th>\n",
       "      <th>Column</th>\n",
       "      <th>Type</th>\n",
       "      <th>#Distinct Values</th>\n",
       "      <th>#Nulls</th>\n",
       "      <th>Max Size</th>\n",
       "      <th>Avg Size</th>\n",
       "    </tr>\n",
       "  </thead>\n",
       "  <tbody>\n",
       "    <tr>\n",
       "      <th>0</th>\n",
       "      <td>code</td>\n",
       "      <td>STRING</td>\n",
       "      <td>830</td>\n",
       "      <td>-1</td>\n",
       "      <td>NaN</td>\n",
       "      <td>7.000000</td>\n",
       "    </tr>\n",
       "    <tr>\n",
       "      <th>1</th>\n",
       "      <td>description</td>\n",
       "      <td>STRING</td>\n",
       "      <td>832</td>\n",
       "      <td>-1</td>\n",
       "      <td>NaN</td>\n",
       "      <td>34.690159</td>\n",
       "    </tr>\n",
       "    <tr>\n",
       "      <th>2</th>\n",
       "      <td>total_emp</td>\n",
       "      <td>INT</td>\n",
       "      <td>801</td>\n",
       "      <td>-1</td>\n",
       "      <td>NaN</td>\n",
       "      <td>4.000000</td>\n",
       "    </tr>\n",
       "    <tr>\n",
       "      <th>3</th>\n",
       "      <td>salary</td>\n",
       "      <td>INT</td>\n",
       "      <td>742</td>\n",
       "      <td>-1</td>\n",
       "      <td>NaN</td>\n",
       "      <td>4.000000</td>\n",
       "    </tr>\n",
       "  </tbody>\n",
       "</table>\n",
       "</div>"
      ],
      "text/plain": [
       "        Column    Type  #Distinct Values  #Nulls  Max Size   Avg Size\n",
       "0         code  STRING               830      -1       NaN   7.000000\n",
       "1  description  STRING               832      -1       NaN  34.690159\n",
       "2    total_emp     INT               801      -1       NaN   4.000000\n",
       "3       salary     INT               742      -1       NaN   4.000000"
      ]
     },
     "execution_count": 8,
     "metadata": {},
     "output_type": "execute_result"
    }
   ],
   "source": [
    "table.column_stats()"
   ]
  },
  {
   "cell_type": "markdown",
   "metadata": {},
   "source": [
    "### 特定のカラムにアクセスする"
   ]
  },
  {
   "cell_type": "code",
   "execution_count": 10,
   "metadata": {
    "collapsed": false,
    "scrolled": true
   },
   "outputs": [
    {
     "data": {
      "text/plain": [
       "0       40690.0\n",
       "1       96150.0\n",
       "2      151370.0\n",
       "3      103780.0\n",
       "4       33880.0\n",
       "5       91100.0\n",
       "6      113400.0\n",
       "7      106790.0\n",
       "8       97170.0\n",
       "9       76370.0\n",
       "10     113880.0\n",
       "11     106200.0\n",
       "12      88400.0\n",
       "13      90300.0\n",
       "14      99810.0\n",
       "15      87550.0\n",
       "16      90430.0\n",
       "17      81980.0\n",
       "18      61030.0\n",
       "19      42480.0\n",
       "20      85830.0\n",
       "21      44430.0\n",
       "22      82120.0\n",
       "23      85870.0\n",
       "24      74230.0\n",
       "25     115610.0\n",
       "26      48660.0\n",
       "27      57660.0\n",
       "28      69600.0\n",
       "29      51140.0\n",
       "         ...   \n",
       "793     47740.0\n",
       "794     38730.0\n",
       "795     34050.0\n",
       "796     62720.0\n",
       "797     36570.0\n",
       "798     61680.0\n",
       "799     38120.0\n",
       "800     19320.0\n",
       "801     19720.0\n",
       "802     40150.0\n",
       "803     57050.0\n",
       "804     34330.0\n",
       "805     29020.0\n",
       "806     42940.0\n",
       "807     38320.0\n",
       "808     36990.0\n",
       "809     41980.0\n",
       "810     39190.0\n",
       "811     29760.0\n",
       "812     20870.0\n",
       "813     23840.0\n",
       "814     25260.0\n",
       "815     20320.0\n",
       "816     44590.0\n",
       "817     40660.0\n",
       "818     37680.0\n",
       "819     31410.0\n",
       "820     41300.0\n",
       "821     35820.0\n",
       "822     33170.0\n",
       "Name: salary, dtype: float64"
      ]
     },
     "execution_count": 10,
     "metadata": {},
     "output_type": "execute_result"
    }
   ],
   "source": [
    "# 特定のカラムにはドットアクセスができる\n",
    "col = table.salary\n",
    "col"
   ]
  },
  {
   "cell_type": "code",
   "execution_count": 11,
   "metadata": {
    "collapsed": false,
    "scrolled": true
   },
   "outputs": [
    {
     "data": {
      "text/plain": [
       "0       40690.0\n",
       "1       96150.0\n",
       "2      151370.0\n",
       "3      103780.0\n",
       "4       33880.0\n",
       "5       91100.0\n",
       "6      113400.0\n",
       "7      106790.0\n",
       "8       97170.0\n",
       "9       76370.0\n",
       "10     113880.0\n",
       "11     106200.0\n",
       "12      88400.0\n",
       "13      90300.0\n",
       "14      99810.0\n",
       "15      87550.0\n",
       "16      90430.0\n",
       "17      81980.0\n",
       "18      61030.0\n",
       "19      42480.0\n",
       "20      85830.0\n",
       "21      44430.0\n",
       "22      82120.0\n",
       "23      85870.0\n",
       "24      74230.0\n",
       "25     115610.0\n",
       "26      48660.0\n",
       "27      57660.0\n",
       "28      69600.0\n",
       "29      51140.0\n",
       "         ...   \n",
       "793     47740.0\n",
       "794     38730.0\n",
       "795     34050.0\n",
       "796     62720.0\n",
       "797     36570.0\n",
       "798     61680.0\n",
       "799     38120.0\n",
       "800     19320.0\n",
       "801     19720.0\n",
       "802     40150.0\n",
       "803     57050.0\n",
       "804     34330.0\n",
       "805     29020.0\n",
       "806     42940.0\n",
       "807     38320.0\n",
       "808     36990.0\n",
       "809     41980.0\n",
       "810     39190.0\n",
       "811     29760.0\n",
       "812     20870.0\n",
       "813     23840.0\n",
       "814     25260.0\n",
       "815     20320.0\n",
       "816     44590.0\n",
       "817     40660.0\n",
       "818     37680.0\n",
       "819     31410.0\n",
       "820     41300.0\n",
       "821     35820.0\n",
       "822     33170.0\n",
       "Name: salary, dtype: float64"
      ]
     },
     "execution_count": 11,
     "metadata": {},
     "output_type": "execute_result"
    }
   ],
   "source": [
    "# 特定のカラムにdictのようにもアクセスできる\n",
    "col2 = table['salary']\n",
    "col2"
   ]
  },
  {
   "cell_type": "markdown",
   "metadata": {},
   "source": [
    "### salaryの計算をする"
   ]
  },
  {
   "cell_type": "code",
   "execution_count": 12,
   "metadata": {
    "collapsed": false
   },
   "outputs": [],
   "source": [
    "expr = col2.log2() - 1"
   ]
  },
  {
   "cell_type": "code",
   "execution_count": 13,
   "metadata": {
    "collapsed": false
   },
   "outputs": [],
   "source": [
    "expr2 = expr.sum()"
   ]
  },
  {
   "cell_type": "code",
   "execution_count": 14,
   "metadata": {
    "collapsed": false
   },
   "outputs": [
    {
     "name": "stdout",
     "output_type": "stream",
     "text": [
      "SELECT sum(log2(`salary`) - 1) AS `sum`\n",
      "FROM default.`sample_07`\n"
     ]
    },
    {
     "data": {
      "text/plain": [
       "11782.515873364844"
      ]
     },
     "execution_count": 14,
     "metadata": {},
     "output_type": "execute_result"
    }
   ],
   "source": [
    "print(ibis.impala.compile(expr2))\n",
    "expr2"
   ]
  },
  {
   "cell_type": "code",
   "execution_count": 15,
   "metadata": {
    "collapsed": false
   },
   "outputs": [
    {
     "data": {
      "text/plain": [
       "40700"
      ]
     },
     "execution_count": 15,
     "metadata": {},
     "output_type": "execute_result"
    }
   ],
   "source": [
    "table.salary.approx_median()"
   ]
  },
  {
   "cell_type": "code",
   "execution_count": 16,
   "metadata": {
    "collapsed": false
   },
   "outputs": [
    {
     "data": {
      "text/plain": [
       "   count  nulls    min     max       sum          mean  approx_nunique\n",
       "0    819      4  16700  192780  39282210  47963.626374             742"
      ]
     },
     "execution_count": 16,
     "metadata": {},
     "output_type": "execute_result"
    }
   ],
   "source": [
    "table.salary.summary()"
   ]
  },
  {
   "cell_type": "code",
   "execution_count": 17,
   "metadata": {
    "collapsed": false,
    "scrolled": false
   },
   "outputs": [
    {
     "data": {
      "text/html": [
       "<div>\n",
       "<table border=\"1\" class=\"dataframe\">\n",
       "  <thead>\n",
       "    <tr style=\"text-align: right;\">\n",
       "      <th></th>\n",
       "      <th>saraly_total</th>\n",
       "    </tr>\n",
       "  </thead>\n",
       "  <tbody>\n",
       "    <tr>\n",
       "      <th>0</th>\n",
       "      <td>39282210</td>\n",
       "    </tr>\n",
       "  </tbody>\n",
       "</table>\n",
       "</div>"
      ],
      "text/plain": [
       "   saraly_total\n",
       "0      39282210"
      ]
     },
     "execution_count": 17,
     "metadata": {},
     "output_type": "execute_result"
    }
   ],
   "source": [
    "metric = table.salary.sum()\n",
    "metric = metric.name('saraly_total') #`.name`でas相当の名前を付与できる\n",
    "expr = table.aggregate([metric])\n",
    "result = con.execute(expr)\n",
    "result"
   ]
  },
  {
   "cell_type": "markdown",
   "metadata": {},
   "source": [
    "### 文字列処理をする"
   ]
  },
  {
   "cell_type": "code",
   "execution_count": 18,
   "metadata": {
    "collapsed": false,
    "scrolled": true
   },
   "outputs": [
    {
     "data": {
      "text/plain": [
       "0      00-0000\n",
       "1      11-0000\n",
       "2      11-1011\n",
       "3      11-1021\n",
       "4      11-1031\n",
       "5      11-2011\n",
       "6      11-2021\n",
       "7      11-2022\n",
       "8      11-2031\n",
       "9      11-3011\n",
       "10     11-3021\n",
       "11     11-3031\n",
       "12     11-3041\n",
       "13     11-3042\n",
       "14     11-3049\n",
       "15     11-3051\n",
       "16     11-3061\n",
       "17     11-3071\n",
       "18     11-9011\n",
       "19     11-9012\n",
       "20     11-9021\n",
       "21     11-9031\n",
       "22     11-9032\n",
       "23     11-9033\n",
       "24     11-9039\n",
       "25     11-9041\n",
       "26     11-9051\n",
       "27     11-9061\n",
       "28     11-9071\n",
       "29     11-9081\n",
       "        ...   \n",
       "793    53-4041\n",
       "794    53-4099\n",
       "795    53-5011\n",
       "796    53-5021\n",
       "797    53-5022\n",
       "798    53-5031\n",
       "799    53-6011\n",
       "800    53-6021\n",
       "801    53-6031\n",
       "802    53-6041\n",
       "803    53-6051\n",
       "804    53-6099\n",
       "805    53-7011\n",
       "806    53-7021\n",
       "807    53-7031\n",
       "808    53-7032\n",
       "809    53-7033\n",
       "810    53-7041\n",
       "811    53-7051\n",
       "812    53-7061\n",
       "813    53-7062\n",
       "814    53-7063\n",
       "815    53-7064\n",
       "816    53-7071\n",
       "817    53-7072\n",
       "818    53-7073\n",
       "819    53-7081\n",
       "820    53-7111\n",
       "821    53-7121\n",
       "822    53-7199\n",
       "Name: code, dtype: object"
      ]
     },
     "execution_count": 18,
     "metadata": {},
     "output_type": "execute_result"
    }
   ],
   "source": [
    "table.code"
   ]
  },
  {
   "cell_type": "markdown",
   "metadata": {},
   "source": [
    "### `code` の先頭2桁の数字で集計をする"
   ]
  },
  {
   "cell_type": "code",
   "execution_count": 19,
   "metadata": {
    "collapsed": false
   },
   "outputs": [
    {
     "data": {
      "text/plain": [
       "   sub_code  saraly_total\n",
       "0        25       3669900\n",
       "1        31        472840\n",
       "2        11       2907810\n",
       "3        53       2102250\n",
       "4        47       2317830\n",
       "5        00         40690\n",
       "6        45        463660\n",
       "7        51       3611510\n",
       "8        39        908830\n",
       "9        13       1855300\n",
       "10       33        948740\n",
       "11       27       1883760\n",
       "12       19       2910230\n",
       "13       49       2045090\n",
       "14       21        740880\n",
       "15       35        408740\n",
       "16       43       1799340\n",
       "17       15       1263380\n",
       "18       17       2433460\n",
       "19       29       4445310\n",
       "20       41       1064860\n",
       "21       37        314210\n",
       "22       23        673590"
      ]
     },
     "execution_count": 19,
     "metadata": {},
     "output_type": "execute_result"
    }
   ],
   "source": [
    "key = table.code.substr(0, 2).name('sub_code')\n",
    "result = table.group_by(key).aggregate([metric])\n",
    "result"
   ]
  },
  {
   "cell_type": "markdown",
   "metadata": {},
   "source": [
    "### 結果をDataFrameとして得る"
   ]
  },
  {
   "cell_type": "code",
   "execution_count": 20,
   "metadata": {
    "collapsed": false,
    "scrolled": true
   },
   "outputs": [
    {
     "data": {
      "text/html": [
       "<div>\n",
       "<table border=\"1\" class=\"dataframe\">\n",
       "  <thead>\n",
       "    <tr style=\"text-align: right;\">\n",
       "      <th></th>\n",
       "      <th>sub_code</th>\n",
       "      <th>saraly_total</th>\n",
       "    </tr>\n",
       "  </thead>\n",
       "  <tbody>\n",
       "    <tr>\n",
       "      <th>0</th>\n",
       "      <td>25</td>\n",
       "      <td>3669900</td>\n",
       "    </tr>\n",
       "    <tr>\n",
       "      <th>1</th>\n",
       "      <td>31</td>\n",
       "      <td>472840</td>\n",
       "    </tr>\n",
       "    <tr>\n",
       "      <th>2</th>\n",
       "      <td>11</td>\n",
       "      <td>2907810</td>\n",
       "    </tr>\n",
       "    <tr>\n",
       "      <th>3</th>\n",
       "      <td>53</td>\n",
       "      <td>2102250</td>\n",
       "    </tr>\n",
       "    <tr>\n",
       "      <th>4</th>\n",
       "      <td>47</td>\n",
       "      <td>2317830</td>\n",
       "    </tr>\n",
       "    <tr>\n",
       "      <th>5</th>\n",
       "      <td>00</td>\n",
       "      <td>40690</td>\n",
       "    </tr>\n",
       "    <tr>\n",
       "      <th>6</th>\n",
       "      <td>45</td>\n",
       "      <td>463660</td>\n",
       "    </tr>\n",
       "    <tr>\n",
       "      <th>7</th>\n",
       "      <td>51</td>\n",
       "      <td>3611510</td>\n",
       "    </tr>\n",
       "    <tr>\n",
       "      <th>8</th>\n",
       "      <td>39</td>\n",
       "      <td>908830</td>\n",
       "    </tr>\n",
       "    <tr>\n",
       "      <th>9</th>\n",
       "      <td>13</td>\n",
       "      <td>1855300</td>\n",
       "    </tr>\n",
       "    <tr>\n",
       "      <th>10</th>\n",
       "      <td>33</td>\n",
       "      <td>948740</td>\n",
       "    </tr>\n",
       "    <tr>\n",
       "      <th>11</th>\n",
       "      <td>27</td>\n",
       "      <td>1883760</td>\n",
       "    </tr>\n",
       "    <tr>\n",
       "      <th>12</th>\n",
       "      <td>19</td>\n",
       "      <td>2910230</td>\n",
       "    </tr>\n",
       "    <tr>\n",
       "      <th>13</th>\n",
       "      <td>49</td>\n",
       "      <td>2045090</td>\n",
       "    </tr>\n",
       "    <tr>\n",
       "      <th>14</th>\n",
       "      <td>21</td>\n",
       "      <td>740880</td>\n",
       "    </tr>\n",
       "    <tr>\n",
       "      <th>15</th>\n",
       "      <td>35</td>\n",
       "      <td>408740</td>\n",
       "    </tr>\n",
       "    <tr>\n",
       "      <th>16</th>\n",
       "      <td>43</td>\n",
       "      <td>1799340</td>\n",
       "    </tr>\n",
       "    <tr>\n",
       "      <th>17</th>\n",
       "      <td>15</td>\n",
       "      <td>1263380</td>\n",
       "    </tr>\n",
       "    <tr>\n",
       "      <th>18</th>\n",
       "      <td>17</td>\n",
       "      <td>2433460</td>\n",
       "    </tr>\n",
       "    <tr>\n",
       "      <th>19</th>\n",
       "      <td>29</td>\n",
       "      <td>4445310</td>\n",
       "    </tr>\n",
       "    <tr>\n",
       "      <th>20</th>\n",
       "      <td>41</td>\n",
       "      <td>1064860</td>\n",
       "    </tr>\n",
       "    <tr>\n",
       "      <th>21</th>\n",
       "      <td>37</td>\n",
       "      <td>314210</td>\n",
       "    </tr>\n",
       "    <tr>\n",
       "      <th>22</th>\n",
       "      <td>23</td>\n",
       "      <td>673590</td>\n",
       "    </tr>\n",
       "  </tbody>\n",
       "</table>\n",
       "</div>"
      ],
      "text/plain": [
       "   sub_code  saraly_total\n",
       "0        25       3669900\n",
       "1        31        472840\n",
       "2        11       2907810\n",
       "3        53       2102250\n",
       "4        47       2317830\n",
       "5        00         40690\n",
       "6        45        463660\n",
       "7        51       3611510\n",
       "8        39        908830\n",
       "9        13       1855300\n",
       "10       33        948740\n",
       "11       27       1883760\n",
       "12       19       2910230\n",
       "13       49       2045090\n",
       "14       21        740880\n",
       "15       35        408740\n",
       "16       43       1799340\n",
       "17       15       1263380\n",
       "18       17       2433460\n",
       "19       29       4445310\n",
       "20       41       1064860\n",
       "21       37        314210\n",
       "22       23        673590"
      ]
     },
     "execution_count": 20,
     "metadata": {},
     "output_type": "execute_result"
    }
   ],
   "source": [
    "result.execute()"
   ]
  },
  {
   "cell_type": "markdown",
   "metadata": {},
   "source": [
    "### `salary` の分布を可視化する\n",
    "\n",
    "[violin plot](https://en.wikipedia.org/wiki/Violin_plot)とbox plot(箱ひげ図)で、データがどこに集中しているのかを可視化をする。  \n",
    "Pythonのmatplotlibとseabornを使うことで、簡単に可視化できる。"
   ]
  },
  {
   "cell_type": "code",
   "execution_count": 21,
   "metadata": {
    "collapsed": false
   },
   "outputs": [],
   "source": [
    "%matplotlib inline\n",
    "import matplotlib\n",
    "import seaborn as sns\n",
    "import matplotlib.pyplot as plt"
   ]
  },
  {
   "cell_type": "code",
   "execution_count": 22,
   "metadata": {
    "collapsed": false
   },
   "outputs": [],
   "source": [
    "res = table.salary.execute()"
   ]
  },
  {
   "cell_type": "code",
   "execution_count": 23,
   "metadata": {
    "collapsed": false
   },
   "outputs": [
    {
     "data": {
      "text/plain": [
       "<matplotlib.axes._subplots.AxesSubplot at 0x107720a20>"
      ]
     },
     "execution_count": 23,
     "metadata": {},
     "output_type": "execute_result"
    },
    {
     "data": {
      "image/png": "[encoded data removed]",
      "text/plain": [
       "<matplotlib.figure.Figure at 0x105533a20>"
      ]
     },
     "metadata": {},
     "output_type": "display_data"
    }
   ],
   "source": [
    "sns.violinplot(data=res)"
   ]
  },
  {
   "cell_type": "code",
   "execution_count": 24,
   "metadata": {
    "collapsed": false
   },
   "outputs": [
    {
     "data": {
      "text/plain": [
       "<matplotlib.axes._subplots.AxesSubplot at 0x107812160>"
      ]
     },
     "execution_count": 24,
     "metadata": {},
     "output_type": "execute_result"
    },
    {
     "data": {
      "image/png": "[encoded data removed]",
      "text/plain": [
       "<matplotlib.figure.Figure at 0x1078676d8>"
      ]
     },
     "metadata": {},
     "output_type": "display_data"
    }
   ],
   "source": [
    "sns.boxplot(data=res)"
   ]
  },
  {
   "cell_type": "markdown",
   "metadata": {},
   "source": [
    "# MovieLens 20Mを対象に、映画の好みを機械学習で予測する\n",
    "\n",
    "レコメンデーションの実験でよく利用される、[Movie Lens](http://grouplens.org/datasets/movielens/)というデータセットを使って映画の好みを予測するモデルを学習する。\n",
    "\n",
    "- タグデータ、評価データ、映画データの説明\n",
    "- 評価データの傾向の確認\n",
    "- 特定のユーザの好みを予測するモデルを[scikit-learn](http://scikit-learn.org/)で学習する\n",
    "\n",
    "## データの情報\n",
    "今回は20Mのデータを利用する。  \n",
    "\n",
    "> Stable benchmark dataset. 20 million ratings and 465,000 tag applications applied to 27,000 movies by 138,000 users. Released 4/2015.\n",
    "\n",
    "2千万件の映画の評価データが含まれる。  \n",
    "\n",
    "予め作ってS3に置いた、parquet形式のテーブルを利用している。\n",
    "\n",
    "### タグデータ\n",
    "\n",
    "ユーザID、映画ID、ユーザーが付与した映画のタグ、付与した日時(Unixtime)が含まれる。"
   ]
  },
  {
   "cell_type": "code",
   "execution_count": 25,
   "metadata": {
    "collapsed": false
   },
   "outputs": [
    {
     "data": {
      "text/html": [
       "<div>\n",
       "<table border=\"1\" class=\"dataframe\">\n",
       "  <thead>\n",
       "    <tr style=\"text-align: right;\">\n",
       "      <th></th>\n",
       "      <th>userid</th>\n",
       "      <th>movieid</th>\n",
       "      <th>tag</th>\n",
       "      <th>timestamp</th>\n",
       "    </tr>\n",
       "  </thead>\n",
       "  <tbody>\n",
       "    <tr>\n",
       "      <th>0</th>\n",
       "      <td>18</td>\n",
       "      <td>4141</td>\n",
       "      <td>Mark Waters</td>\n",
       "      <td>1240597180</td>\n",
       "    </tr>\n",
       "    <tr>\n",
       "      <th>1</th>\n",
       "      <td>65</td>\n",
       "      <td>208</td>\n",
       "      <td>dark hero</td>\n",
       "      <td>1368150078</td>\n",
       "    </tr>\n",
       "    <tr>\n",
       "      <th>2</th>\n",
       "      <td>65</td>\n",
       "      <td>353</td>\n",
       "      <td>dark hero</td>\n",
       "      <td>1368150079</td>\n",
       "    </tr>\n",
       "    <tr>\n",
       "      <th>3</th>\n",
       "      <td>65</td>\n",
       "      <td>521</td>\n",
       "      <td>noir thriller</td>\n",
       "      <td>1368149983</td>\n",
       "    </tr>\n",
       "    <tr>\n",
       "      <th>4</th>\n",
       "      <td>65</td>\n",
       "      <td>592</td>\n",
       "      <td>dark hero</td>\n",
       "      <td>1368150078</td>\n",
       "    </tr>\n",
       "    <tr>\n",
       "      <th>5</th>\n",
       "      <td>65</td>\n",
       "      <td>668</td>\n",
       "      <td>bollywood</td>\n",
       "      <td>1368149876</td>\n",
       "    </tr>\n",
       "    <tr>\n",
       "      <th>6</th>\n",
       "      <td>65</td>\n",
       "      <td>898</td>\n",
       "      <td>screwball comedy</td>\n",
       "      <td>1368150160</td>\n",
       "    </tr>\n",
       "    <tr>\n",
       "      <th>7</th>\n",
       "      <td>65</td>\n",
       "      <td>1248</td>\n",
       "      <td>noir thriller</td>\n",
       "      <td>1368149983</td>\n",
       "    </tr>\n",
       "    <tr>\n",
       "      <th>8</th>\n",
       "      <td>65</td>\n",
       "      <td>1391</td>\n",
       "      <td>mars</td>\n",
       "      <td>1368150055</td>\n",
       "    </tr>\n",
       "    <tr>\n",
       "      <th>9</th>\n",
       "      <td>65</td>\n",
       "      <td>1617</td>\n",
       "      <td>neo-noir</td>\n",
       "      <td>1368150217</td>\n",
       "    </tr>\n",
       "  </tbody>\n",
       "</table>\n",
       "</div>"
      ],
      "text/plain": [
       "   userid  movieid               tag   timestamp\n",
       "0      18     4141       Mark Waters  1240597180\n",
       "1      65      208         dark hero  1368150078\n",
       "2      65      353         dark hero  1368150079\n",
       "3      65      521     noir thriller  1368149983\n",
       "4      65      592         dark hero  1368150078\n",
       "5      65      668         bollywood  1368149876\n",
       "6      65      898  screwball comedy  1368150160\n",
       "7      65     1248     noir thriller  1368149983\n",
       "8      65     1391              mars  1368150055\n",
       "9      65     1617          neo-noir  1368150217"
      ]
     },
     "execution_count": 25,
     "metadata": {},
     "output_type": "execute_result"
    }
   ],
   "source": [
    "tags = con.table('tags_pq_s3')\n",
    "\n",
    "tags.limit(10).execute()"
   ]
  },
  {
   "cell_type": "markdown",
   "metadata": {},
   "source": [
    "### 評価データ\n",
    "\n",
    "ユーザID、映画ID、評価値（0-5で0.5刻み）、付与した日時(Unixtime)が含まれる。"
   ]
  },
  {
   "cell_type": "code",
   "execution_count": 26,
   "metadata": {
    "collapsed": false,
    "scrolled": false
   },
   "outputs": [
    {
     "data": {
      "text/plain": [
       "      userid  movieid  rating   timestamp\n",
       "0          1        2     3.5  1112486027\n",
       "1          1       29     3.5  1112484676\n",
       "2          1       32     3.5  1112484819\n",
       "3          1       47     3.5  1112484727\n",
       "4          1       50     3.5  1112484580\n",
       "5          1      112     3.5  1094785740\n",
       "6          1      151     4.0  1094785734\n",
       "7          1      223     4.0  1112485573\n",
       "8          1      253     4.0  1112484940\n",
       "9          1      260     4.0  1112484826\n",
       "10         1      293     4.0  1112484703\n",
       "11         1      296     4.0  1112484767\n",
       "12         1      318     4.0  1112484798\n",
       "13         1      337     3.5  1094785709\n",
       "14         1      367     3.5  1112485980\n",
       "15         1      541     4.0  1112484603\n",
       "16         1      589     3.5  1112485557\n",
       "17         1      593     3.5  1112484661\n",
       "18         1      653     3.0  1094785691\n",
       "19         1      919     3.5  1094785621\n",
       "20         1      924     3.5  1094785598\n",
       "21         1     1009     3.5  1112486013\n",
       "22         1     1036     4.0  1112485480\n",
       "23         1     1079     4.0  1094785665\n",
       "24         1     1080     3.5  1112485375\n",
       "25         1     1089     3.5  1112484669\n",
       "26         1     1090     4.0  1112485453\n",
       "27         1     1097     4.0  1112485701\n",
       "28         1     1136     3.5  1112484609\n",
       "29         1     1193     3.5  1112484690\n",
       "...      ...      ...     ...         ...\n",
       "9970      91     2565     3.5  1121736214\n",
       "9971      91     2571     3.5  1111531577\n",
       "9972      91     2572     3.5  1126508384\n",
       "9973      91     2580     2.5  1111559557\n",
       "9974      91     2599     3.5  1126507631\n",
       "9975      91     2617     3.0  1126507681\n",
       "9976      91     2628     3.0  1112061371\n",
       "9977      91     2640     4.0  1113201654\n",
       "9978      91     2641     3.5  1113201689\n",
       "9979      91     2657     4.5  1113201521\n",
       "9980      91     2671     4.0  1126508206\n",
       "9981      91     2683     4.0  1121673718\n",
       "9982      91     2692     4.0  1111549455\n",
       "9983      91     2699     2.5  1126507743\n",
       "9984      91     2700     4.0  1111966814\n",
       "9985      91     2701     3.0  1126508323\n",
       "9986      91     2706     3.5  1121674128\n",
       "9987      91     2710     3.0  1121674142\n",
       "9988      91     2712     2.0  1126507692\n",
       "9989      91     2716     3.5  1112051838\n",
       "9990      91     2762     4.0  1111531713\n",
       "9991      91     2763     2.5  1126507902\n",
       "9992      91     2770     3.0  1126508219\n",
       "9993      91     2788     3.0  1111549336\n",
       "9994      91     2791     3.0  1121674402\n",
       "9995      91     2797     3.5  1112061221\n",
       "9996      91     2857     4.0  1111966776\n",
       "9997      91     2858     4.5  1111557477\n",
       "9998      91     2863     4.5  1111558557\n",
       "9999      91     2890     2.5  1113202901\n",
       "\n",
       "[10000 rows x 4 columns]"
      ]
     },
     "execution_count": 26,
     "metadata": {},
     "output_type": "execute_result"
    }
   ],
   "source": [
    "ratings = con.table('ratings_pq_s3')\n",
    "ratings"
   ]
  },
  {
   "cell_type": "markdown",
   "metadata": {},
   "source": [
    "### Unixtimeをdatetime型に変換する\n",
    "\n",
    "元データはUnixtime (int)で格納されているので、年ごとに分析できるようにdatetime型に変換する。"
   ]
  },
  {
   "cell_type": "code",
   "execution_count": 27,
   "metadata": {
    "collapsed": false,
    "scrolled": true
   },
   "outputs": [
    {
     "data": {
      "text/plain": [
       "      userid  movieid  rating            datetime\n",
       "0      67288     1358     4.0 2006-11-01 04:33:26\n",
       "1      67288     1370     4.0 2006-11-01 04:35:55\n",
       "2      67288     1380     3.5 2006-11-01 04:35:52\n",
       "3      67288     1387     3.5 2006-06-12 03:22:32\n",
       "4      67288     1393     2.0 2006-07-02 03:22:53\n",
       "5      67288     1394     2.0 2006-11-01 04:30:00\n",
       "6      67288     1407     1.0 2006-11-01 04:27:58\n",
       "7      67288     1408     4.5 2006-07-02 03:21:40\n",
       "8      67288     1441     3.5 2006-06-12 03:12:31\n",
       "9      67288     1446     4.0 2012-08-03 23:27:33\n",
       "10     67288     1466     4.0 2006-11-01 04:45:29\n",
       "11     67288     1485     4.0 2006-11-01 04:27:49\n",
       "12     67288     1513     4.0 2006-11-01 04:49:19\n",
       "13     67288     1552     4.0 2006-11-01 04:33:16\n",
       "14     67288     1584     4.0 2006-07-01 22:28:15\n",
       "15     67288     1608     4.0 2006-11-01 04:29:00\n",
       "16     67288     1610     4.0 2006-07-02 03:17:46\n",
       "17     67288     1641     3.5 2006-11-01 04:25:45\n",
       "18     67288     1645     4.5 2007-06-22 03:18:13\n",
       "19     67288     1672     4.5 2006-07-02 03:24:23\n",
       "20     67288     1674     3.5 2006-07-02 03:39:14\n",
       "21     67288     1680     4.5 2009-12-22 14:59:09\n",
       "22     67288     1682     3.0 2006-11-01 04:23:20\n",
       "23     67288     1695     5.0 2006-12-31 03:09:45\n",
       "24     67288     1704     5.0 2012-03-17 01:51:57\n",
       "25     67288     1707     2.5 2006-12-23 05:21:55\n",
       "26     67288     1721     4.0 2006-11-01 04:15:01\n",
       "27     67288     1784     1.0 2006-07-01 22:30:15\n",
       "28     67288     1873     4.0 2006-07-02 03:19:43\n",
       "29     67288     1876     2.0 2006-11-01 04:39:13\n",
       "...      ...      ...     ...                 ...\n",
       "9970   67346     3006     4.0 2000-01-02 01:15:17\n",
       "9971   67346     3008     2.5 2003-08-29 21:16:58\n",
       "9972   67346     3009     3.0 2003-08-26 21:56:11\n",
       "9973   67346     3011     3.0 2003-08-28 16:40:03\n",
       "9974   67346     3013     0.5 2005-10-09 20:15:01\n",
       "9975   67346     3014     0.5 2003-08-28 15:45:18\n",
       "9976   67346     3015     0.5 2005-10-11 05:43:01\n",
       "9977   67346     3016     0.5 2003-08-28 15:44:15\n",
       "9978   67346     3017     0.5 2003-08-27 15:48:05\n",
       "9979   67346     3018     0.5 2003-08-29 20:49:34\n",
       "9980   67346     3021     0.5 2003-08-27 15:43:49\n",
       "9981   67346     3022     3.5 2003-08-26 22:55:49\n",
       "9982   67346     3024     0.5 2005-10-10 06:52:44\n",
       "9983   67346     3026     0.5 2003-08-27 15:50:11\n",
       "9984   67346     3028     2.5 2005-10-11 04:58:46\n",
       "9985   67346     3030     1.5 2003-08-29 21:23:26\n",
       "9986   67346     3033     1.5 2003-08-29 17:36:07\n",
       "9987   67346     3034     2.0 2003-08-26 23:10:44\n",
       "9988   67346     3035     3.0 2003-08-28 16:55:58\n",
       "9989   67346     3037     3.0 2003-08-29 17:12:16\n",
       "9990   67346     3038     3.5 2003-08-28 00:02:21\n",
       "9991   67346     3039     3.0 1999-11-16 15:24:45\n",
       "9992   67346     3040     2.0 2000-05-23 20:02:52\n",
       "9993   67346     3041     0.5 2003-08-27 15:51:52\n",
       "9994   67346     3042     0.5 2003-08-27 15:52:19\n",
       "9995   67346     3044     2.5 2003-08-28 15:11:02\n",
       "9996   67346     3045     3.5 2003-08-27 16:06:41\n",
       "9997   67346     3046     3.5 2003-08-27 16:06:20\n",
       "9998   67346     3047     3.5 2003-08-28 15:18:47\n",
       "9999   67346     3049     2.0 1999-11-18 01:24:30\n",
       "\n",
       "[10000 rows x 4 columns]"
      ]
     },
     "execution_count": 27,
     "metadata": {},
     "output_type": "execute_result"
    }
   ],
   "source": [
    "expr = ratings.timestamp.cast('timestamp')\n",
    "ratings2 = ratings['userid', 'movieid', 'rating', expr.name('datetime') ]\n",
    "ratings2"
   ]
  },
  {
   "cell_type": "markdown",
   "metadata": {},
   "source": [
    "### 映画データ\n",
    "映画ID、映画名、ジャンル（`|`区切り）が含まれる"
   ]
  },
  {
   "cell_type": "code",
   "execution_count": 28,
   "metadata": {
    "collapsed": false,
    "scrolled": true
   },
   "outputs": [
    {
     "data": {
      "text/plain": [
       "['movieid', 'title', 'genres']"
      ]
     },
     "execution_count": 28,
     "metadata": {},
     "output_type": "execute_result"
    }
   ],
   "source": [
    "movies = con.table('movies_pq_s3')\n",
    "movies.columns"
   ]
  },
  {
   "cell_type": "code",
   "execution_count": 29,
   "metadata": {
    "collapsed": false,
    "scrolled": true
   },
   "outputs": [
    {
     "data": {
      "text/html": [
       "<div>\n",
       "<table border=\"1\" class=\"dataframe\">\n",
       "  <thead>\n",
       "    <tr style=\"text-align: right;\">\n",
       "      <th></th>\n",
       "      <th>movieid</th>\n",
       "      <th>title</th>\n",
       "      <th>genres</th>\n",
       "    </tr>\n",
       "  </thead>\n",
       "  <tbody>\n",
       "    <tr>\n",
       "      <th>0</th>\n",
       "      <td>1</td>\n",
       "      <td>Toy Story (1995)</td>\n",
       "      <td>Adventure|Animation|Children|Comedy|Fantasy</td>\n",
       "    </tr>\n",
       "    <tr>\n",
       "      <th>1</th>\n",
       "      <td>2</td>\n",
       "      <td>Jumanji (1995)</td>\n",
       "      <td>Adventure|Children|Fantasy</td>\n",
       "    </tr>\n",
       "    <tr>\n",
       "      <th>2</th>\n",
       "      <td>3</td>\n",
       "      <td>Grumpier Old Men (1995)</td>\n",
       "      <td>Comedy|Romance</td>\n",
       "    </tr>\n",
       "    <tr>\n",
       "      <th>3</th>\n",
       "      <td>4</td>\n",
       "      <td>Waiting to Exhale (1995)</td>\n",
       "      <td>Comedy|Drama|Romance</td>\n",
       "    </tr>\n",
       "    <tr>\n",
       "      <th>4</th>\n",
       "      <td>5</td>\n",
       "      <td>Father of the Bride Part II (1995)</td>\n",
       "      <td>Comedy</td>\n",
       "    </tr>\n",
       "    <tr>\n",
       "      <th>5</th>\n",
       "      <td>6</td>\n",
       "      <td>Heat (1995)</td>\n",
       "      <td>Action|Crime|Thriller</td>\n",
       "    </tr>\n",
       "    <tr>\n",
       "      <th>6</th>\n",
       "      <td>7</td>\n",
       "      <td>Sabrina (1995)</td>\n",
       "      <td>Comedy|Romance</td>\n",
       "    </tr>\n",
       "    <tr>\n",
       "      <th>7</th>\n",
       "      <td>8</td>\n",
       "      <td>Tom and Huck (1995)</td>\n",
       "      <td>Adventure|Children</td>\n",
       "    </tr>\n",
       "    <tr>\n",
       "      <th>8</th>\n",
       "      <td>9</td>\n",
       "      <td>Sudden Death (1995)</td>\n",
       "      <td>Action</td>\n",
       "    </tr>\n",
       "    <tr>\n",
       "      <th>9</th>\n",
       "      <td>10</td>\n",
       "      <td>GoldenEye (1995)</td>\n",
       "      <td>Action|Adventure|Thriller</td>\n",
       "    </tr>\n",
       "    <tr>\n",
       "      <th>10</th>\n",
       "      <td>11</td>\n",
       "      <td>American President, The (1995)</td>\n",
       "      <td>Comedy|Drama|Romance</td>\n",
       "    </tr>\n",
       "    <tr>\n",
       "      <th>11</th>\n",
       "      <td>12</td>\n",
       "      <td>Dracula: Dead and Loving It (1995)</td>\n",
       "      <td>Comedy|Horror</td>\n",
       "    </tr>\n",
       "    <tr>\n",
       "      <th>12</th>\n",
       "      <td>13</td>\n",
       "      <td>Balto (1995)</td>\n",
       "      <td>Adventure|Animation|Children</td>\n",
       "    </tr>\n",
       "    <tr>\n",
       "      <th>13</th>\n",
       "      <td>14</td>\n",
       "      <td>Nixon (1995)</td>\n",
       "      <td>Drama</td>\n",
       "    </tr>\n",
       "    <tr>\n",
       "      <th>14</th>\n",
       "      <td>15</td>\n",
       "      <td>Cutthroat Island (1995)</td>\n",
       "      <td>Action|Adventure|Romance</td>\n",
       "    </tr>\n",
       "    <tr>\n",
       "      <th>15</th>\n",
       "      <td>16</td>\n",
       "      <td>Casino (1995)</td>\n",
       "      <td>Crime|Drama</td>\n",
       "    </tr>\n",
       "    <tr>\n",
       "      <th>16</th>\n",
       "      <td>17</td>\n",
       "      <td>Sense and Sensibility (1995)</td>\n",
       "      <td>Drama|Romance</td>\n",
       "    </tr>\n",
       "    <tr>\n",
       "      <th>17</th>\n",
       "      <td>18</td>\n",
       "      <td>Four Rooms (1995)</td>\n",
       "      <td>Comedy</td>\n",
       "    </tr>\n",
       "    <tr>\n",
       "      <th>18</th>\n",
       "      <td>19</td>\n",
       "      <td>Ace Ventura: When Nature Calls (1995)</td>\n",
       "      <td>Comedy</td>\n",
       "    </tr>\n",
       "    <tr>\n",
       "      <th>19</th>\n",
       "      <td>20</td>\n",
       "      <td>Money Train (1995)</td>\n",
       "      <td>Action|Comedy|Crime|Drama|Thriller</td>\n",
       "    </tr>\n",
       "    <tr>\n",
       "      <th>20</th>\n",
       "      <td>21</td>\n",
       "      <td>Get Shorty (1995)</td>\n",
       "      <td>Comedy|Crime|Thriller</td>\n",
       "    </tr>\n",
       "    <tr>\n",
       "      <th>21</th>\n",
       "      <td>22</td>\n",
       "      <td>Copycat (1995)</td>\n",
       "      <td>Crime|Drama|Horror|Mystery|Thriller</td>\n",
       "    </tr>\n",
       "    <tr>\n",
       "      <th>22</th>\n",
       "      <td>23</td>\n",
       "      <td>Assassins (1995)</td>\n",
       "      <td>Action|Crime|Thriller</td>\n",
       "    </tr>\n",
       "    <tr>\n",
       "      <th>23</th>\n",
       "      <td>24</td>\n",
       "      <td>Powder (1995)</td>\n",
       "      <td>Drama|Sci-Fi</td>\n",
       "    </tr>\n",
       "    <tr>\n",
       "      <th>24</th>\n",
       "      <td>25</td>\n",
       "      <td>Leaving Las Vegas (1995)</td>\n",
       "      <td>Drama|Romance</td>\n",
       "    </tr>\n",
       "    <tr>\n",
       "      <th>25</th>\n",
       "      <td>26</td>\n",
       "      <td>Othello (1995)</td>\n",
       "      <td>Drama</td>\n",
       "    </tr>\n",
       "    <tr>\n",
       "      <th>26</th>\n",
       "      <td>27</td>\n",
       "      <td>Now and Then (1995)</td>\n",
       "      <td>Children|Drama</td>\n",
       "    </tr>\n",
       "    <tr>\n",
       "      <th>27</th>\n",
       "      <td>28</td>\n",
       "      <td>Persuasion (1995)</td>\n",
       "      <td>Drama|Romance</td>\n",
       "    </tr>\n",
       "    <tr>\n",
       "      <th>28</th>\n",
       "      <td>29</td>\n",
       "      <td>City of Lost Children, The (Cité des enfants p...</td>\n",
       "      <td>Adventure|Drama|Fantasy|Mystery|Sci-Fi</td>\n",
       "    </tr>\n",
       "    <tr>\n",
       "      <th>29</th>\n",
       "      <td>30</td>\n",
       "      <td>Shanghai Triad (Yao a yao yao dao waipo qiao) ...</td>\n",
       "      <td>Crime|Drama</td>\n",
       "    </tr>\n",
       "    <tr>\n",
       "      <th>...</th>\n",
       "      <td>...</td>\n",
       "      <td>...</td>\n",
       "      <td>...</td>\n",
       "    </tr>\n",
       "    <tr>\n",
       "      <th>9970</th>\n",
       "      <td>32735</td>\n",
       "      <td>Arabian Nights (Il fiore delle mille e una not...</td>\n",
       "      <td>Comedy|Drama|Fantasy</td>\n",
       "    </tr>\n",
       "    <tr>\n",
       "      <th>9971</th>\n",
       "      <td>32737</td>\n",
       "      <td>Age of Consent (1969)</td>\n",
       "      <td>Comedy|Drama|Romance</td>\n",
       "    </tr>\n",
       "    <tr>\n",
       "      <th>9972</th>\n",
       "      <td>32741</td>\n",
       "      <td>Oedipus Rex (Edipo re) (1967)</td>\n",
       "      <td>Drama</td>\n",
       "    </tr>\n",
       "    <tr>\n",
       "      <th>9973</th>\n",
       "      <td>32743</td>\n",
       "      <td>Ringu 0: Bâsudei (2000)</td>\n",
       "      <td>Drama|Horror|Thriller</td>\n",
       "    </tr>\n",
       "    <tr>\n",
       "      <th>9974</th>\n",
       "      <td>32770</td>\n",
       "      <td>Brothers (Brødre) (2004)</td>\n",
       "      <td>Drama</td>\n",
       "    </tr>\n",
       "    <tr>\n",
       "      <th>9975</th>\n",
       "      <td>32773</td>\n",
       "      <td>Parenti serpenti (1992)</td>\n",
       "      <td>Comedy</td>\n",
       "    </tr>\n",
       "    <tr>\n",
       "      <th>9976</th>\n",
       "      <td>32777</td>\n",
       "      <td>Major Barbara (1941)</td>\n",
       "      <td>Comedy</td>\n",
       "    </tr>\n",
       "    <tr>\n",
       "      <th>9977</th>\n",
       "      <td>32779</td>\n",
       "      <td>Steppenwolf (1974)</td>\n",
       "      <td>Drama</td>\n",
       "    </tr>\n",
       "    <tr>\n",
       "      <th>9978</th>\n",
       "      <td>32781</td>\n",
       "      <td>Hawaii (1966)</td>\n",
       "      <td>Drama</td>\n",
       "    </tr>\n",
       "    <tr>\n",
       "      <th>9979</th>\n",
       "      <td>32783</td>\n",
       "      <td>Pretty Maids All in a Row (1971)</td>\n",
       "      <td>Comedy|Crime|Thriller</td>\n",
       "    </tr>\n",
       "    <tr>\n",
       "      <th>9980</th>\n",
       "      <td>32788</td>\n",
       "      <td>Loners (Samotári) (2000)</td>\n",
       "      <td>Drama</td>\n",
       "    </tr>\n",
       "    <tr>\n",
       "      <th>9981</th>\n",
       "      <td>32792</td>\n",
       "      <td>Red Desert (Deserto rosso, Il) (1964)</td>\n",
       "      <td>Drama</td>\n",
       "    </tr>\n",
       "    <tr>\n",
       "      <th>9982</th>\n",
       "      <td>32797</td>\n",
       "      <td>Satan's Brew (Satansbraten) (1976)</td>\n",
       "      <td>Comedy|Drama</td>\n",
       "    </tr>\n",
       "    <tr>\n",
       "      <th>9983</th>\n",
       "      <td>32799</td>\n",
       "      <td>Maidens in Uniform (Mädchen in Uniform) (1931)</td>\n",
       "      <td>Drama|Romance</td>\n",
       "    </tr>\n",
       "    <tr>\n",
       "      <th>9984</th>\n",
       "      <td>32811</td>\n",
       "      <td>Diary of a Lost Girl (Tagebuch einer Verlorene...</td>\n",
       "      <td>Drama</td>\n",
       "    </tr>\n",
       "    <tr>\n",
       "      <th>9985</th>\n",
       "      <td>32825</td>\n",
       "      <td>Sexmission (Seksmisja) (1984)</td>\n",
       "      <td>Adventure|Comedy|Sci-Fi</td>\n",
       "    </tr>\n",
       "    <tr>\n",
       "      <th>9986</th>\n",
       "      <td>32830</td>\n",
       "      <td>44 Minutes: The North Hollywood Shoot-Out (2003)</td>\n",
       "      <td>Action|Crime</td>\n",
       "    </tr>\n",
       "    <tr>\n",
       "      <th>9987</th>\n",
       "      <td>32834</td>\n",
       "      <td>Macbeth (1948)</td>\n",
       "      <td>Drama</td>\n",
       "    </tr>\n",
       "    <tr>\n",
       "      <th>9988</th>\n",
       "      <td>32836</td>\n",
       "      <td>Garage Olimpo (1999)</td>\n",
       "      <td>Drama</td>\n",
       "    </tr>\n",
       "    <tr>\n",
       "      <th>9989</th>\n",
       "      <td>32840</td>\n",
       "      <td>Vincent (1982)</td>\n",
       "      <td>Animation</td>\n",
       "    </tr>\n",
       "    <tr>\n",
       "      <th>9990</th>\n",
       "      <td>32844</td>\n",
       "      <td>Waterloo Bridge (1940)</td>\n",
       "      <td>Drama|Romance|War</td>\n",
       "    </tr>\n",
       "    <tr>\n",
       "      <th>9991</th>\n",
       "      <td>32851</td>\n",
       "      <td>Hotel Terminus: The Life and Times of Klaus Ba...</td>\n",
       "      <td>Documentary</td>\n",
       "    </tr>\n",
       "    <tr>\n",
       "      <th>9992</th>\n",
       "      <td>32853</td>\n",
       "      <td>Sorrow and the Pity, The (Le chagrin et la pit...</td>\n",
       "      <td>Documentary|War</td>\n",
       "    </tr>\n",
       "    <tr>\n",
       "      <th>9993</th>\n",
       "      <td>32860</td>\n",
       "      <td>Premiers désirs (1984)</td>\n",
       "      <td>Drama|Romance</td>\n",
       "    </tr>\n",
       "    <tr>\n",
       "      <th>9994</th>\n",
       "      <td>32862</td>\n",
       "      <td>With Six You Get Eggroll (1968)</td>\n",
       "      <td>Comedy|Romance</td>\n",
       "    </tr>\n",
       "    <tr>\n",
       "      <th>9995</th>\n",
       "      <td>32864</td>\n",
       "      <td>Move Over, Darling (1963)</td>\n",
       "      <td>Comedy|Romance</td>\n",
       "    </tr>\n",
       "    <tr>\n",
       "      <th>9996</th>\n",
       "      <td>32866</td>\n",
       "      <td>Love Me or Leave Me (1955)</td>\n",
       "      <td>Drama|Musical|Romance</td>\n",
       "    </tr>\n",
       "    <tr>\n",
       "      <th>9997</th>\n",
       "      <td>32875</td>\n",
       "      <td>Holiday (Jour de fête) (1949)</td>\n",
       "      <td>Comedy</td>\n",
       "    </tr>\n",
       "    <tr>\n",
       "      <th>9998</th>\n",
       "      <td>32882</td>\n",
       "      <td>Big Store, The (1941)</td>\n",
       "      <td>Comedy|Musical</td>\n",
       "    </tr>\n",
       "    <tr>\n",
       "      <th>9999</th>\n",
       "      <td>32890</td>\n",
       "      <td>Mother Küsters Goes to Heaven (Mutter Küsters'...</td>\n",
       "      <td>Drama</td>\n",
       "    </tr>\n",
       "  </tbody>\n",
       "</table>\n",
       "<p>10000 rows × 3 columns</p>\n",
       "</div>"
      ],
      "text/plain": [
       "      movieid                                              title  \\\n",
       "0           1                                   Toy Story (1995)   \n",
       "1           2                                     Jumanji (1995)   \n",
       "2           3                            Grumpier Old Men (1995)   \n",
       "3           4                           Waiting to Exhale (1995)   \n",
       "4           5                 Father of the Bride Part II (1995)   \n",
       "5           6                                        Heat (1995)   \n",
       "6           7                                     Sabrina (1995)   \n",
       "7           8                                Tom and Huck (1995)   \n",
       "8           9                                Sudden Death (1995)   \n",
       "9          10                                   GoldenEye (1995)   \n",
       "10         11                     American President, The (1995)   \n",
       "11         12                 Dracula: Dead and Loving It (1995)   \n",
       "12         13                                       Balto (1995)   \n",
       "13         14                                       Nixon (1995)   \n",
       "14         15                            Cutthroat Island (1995)   \n",
       "15         16                                      Casino (1995)   \n",
       "16         17                       Sense and Sensibility (1995)   \n",
       "17         18                                  Four Rooms (1995)   \n",
       "18         19              Ace Ventura: When Nature Calls (1995)   \n",
       "19         20                                 Money Train (1995)   \n",
       "20         21                                  Get Shorty (1995)   \n",
       "21         22                                     Copycat (1995)   \n",
       "22         23                                   Assassins (1995)   \n",
       "23         24                                      Powder (1995)   \n",
       "24         25                           Leaving Las Vegas (1995)   \n",
       "25         26                                     Othello (1995)   \n",
       "26         27                                Now and Then (1995)   \n",
       "27         28                                  Persuasion (1995)   \n",
       "28         29  City of Lost Children, The (Cité des enfants p...   \n",
       "29         30  Shanghai Triad (Yao a yao yao dao waipo qiao) ...   \n",
       "...       ...                                                ...   \n",
       "9970    32735  Arabian Nights (Il fiore delle mille e una not...   \n",
       "9971    32737                              Age of Consent (1969)   \n",
       "9972    32741                      Oedipus Rex (Edipo re) (1967)   \n",
       "9973    32743                            Ringu 0: Bâsudei (2000)   \n",
       "9974    32770                           Brothers (Brødre) (2004)   \n",
       "9975    32773                            Parenti serpenti (1992)   \n",
       "9976    32777                               Major Barbara (1941)   \n",
       "9977    32779                                 Steppenwolf (1974)   \n",
       "9978    32781                                      Hawaii (1966)   \n",
       "9979    32783                   Pretty Maids All in a Row (1971)   \n",
       "9980    32788                           Loners (Samotári) (2000)   \n",
       "9981    32792              Red Desert (Deserto rosso, Il) (1964)   \n",
       "9982    32797                 Satan's Brew (Satansbraten) (1976)   \n",
       "9983    32799     Maidens in Uniform (Mädchen in Uniform) (1931)   \n",
       "9984    32811  Diary of a Lost Girl (Tagebuch einer Verlorene...   \n",
       "9985    32825                      Sexmission (Seksmisja) (1984)   \n",
       "9986    32830   44 Minutes: The North Hollywood Shoot-Out (2003)   \n",
       "9987    32834                                     Macbeth (1948)   \n",
       "9988    32836                               Garage Olimpo (1999)   \n",
       "9989    32840                                     Vincent (1982)   \n",
       "9990    32844                             Waterloo Bridge (1940)   \n",
       "9991    32851  Hotel Terminus: The Life and Times of Klaus Ba...   \n",
       "9992    32853  Sorrow and the Pity, The (Le chagrin et la pit...   \n",
       "9993    32860                             Premiers désirs (1984)   \n",
       "9994    32862                    With Six You Get Eggroll (1968)   \n",
       "9995    32864                          Move Over, Darling (1963)   \n",
       "9996    32866                         Love Me or Leave Me (1955)   \n",
       "9997    32875                      Holiday (Jour de fête) (1949)   \n",
       "9998    32882                              Big Store, The (1941)   \n",
       "9999    32890  Mother Küsters Goes to Heaven (Mutter Küsters'...   \n",
       "\n",
       "                                           genres  \n",
       "0     Adventure|Animation|Children|Comedy|Fantasy  \n",
       "1                      Adventure|Children|Fantasy  \n",
       "2                                  Comedy|Romance  \n",
       "3                            Comedy|Drama|Romance  \n",
       "4                                          Comedy  \n",
       "5                           Action|Crime|Thriller  \n",
       "6                                  Comedy|Romance  \n",
       "7                              Adventure|Children  \n",
       "8                                          Action  \n",
       "9                       Action|Adventure|Thriller  \n",
       "10                           Comedy|Drama|Romance  \n",
       "11                                  Comedy|Horror  \n",
       "12                   Adventure|Animation|Children  \n",
       "13                                          Drama  \n",
       "14                       Action|Adventure|Romance  \n",
       "15                                    Crime|Drama  \n",
       "16                                  Drama|Romance  \n",
       "17                                         Comedy  \n",
       "18                                         Comedy  \n",
       "19             Action|Comedy|Crime|Drama|Thriller  \n",
       "20                          Comedy|Crime|Thriller  \n",
       "21            Crime|Drama|Horror|Mystery|Thriller  \n",
       "22                          Action|Crime|Thriller  \n",
       "23                                   Drama|Sci-Fi  \n",
       "24                                  Drama|Romance  \n",
       "25                                          Drama  \n",
       "26                                 Children|Drama  \n",
       "27                                  Drama|Romance  \n",
       "28         Adventure|Drama|Fantasy|Mystery|Sci-Fi  \n",
       "29                                    Crime|Drama  \n",
       "...                                           ...  \n",
       "9970                         Comedy|Drama|Fantasy  \n",
       "9971                         Comedy|Drama|Romance  \n",
       "9972                                        Drama  \n",
       "9973                        Drama|Horror|Thriller  \n",
       "9974                                        Drama  \n",
       "9975                                       Comedy  \n",
       "9976                                       Comedy  \n",
       "9977                                        Drama  \n",
       "9978                                        Drama  \n",
       "9979                        Comedy|Crime|Thriller  \n",
       "9980                                        Drama  \n",
       "9981                                        Drama  \n",
       "9982                                 Comedy|Drama  \n",
       "9983                                Drama|Romance  \n",
       "9984                                        Drama  \n",
       "9985                      Adventure|Comedy|Sci-Fi  \n",
       "9986                                 Action|Crime  \n",
       "9987                                        Drama  \n",
       "9988                                        Drama  \n",
       "9989                                    Animation  \n",
       "9990                            Drama|Romance|War  \n",
       "9991                                  Documentary  \n",
       "9992                              Documentary|War  \n",
       "9993                                Drama|Romance  \n",
       "9994                               Comedy|Romance  \n",
       "9995                               Comedy|Romance  \n",
       "9996                        Drama|Musical|Romance  \n",
       "9997                                       Comedy  \n",
       "9998                               Comedy|Musical  \n",
       "9999                                        Drama  \n",
       "\n",
       "[10000 rows x 3 columns]"
      ]
     },
     "execution_count": 29,
     "metadata": {},
     "output_type": "execute_result"
    }
   ],
   "source": [
    "movies.execute()"
   ]
  },
  {
   "cell_type": "markdown",
   "metadata": {},
   "source": [
    "### 映画データと評価データをjoinする"
   ]
  },
  {
   "cell_type": "code",
   "execution_count": 30,
   "metadata": {
    "collapsed": false,
    "scrolled": true
   },
   "outputs": [
    {
     "name": "stdout",
     "output_type": "stream",
     "text": [
      "SELECT t0.*, t1.`title`\n",
      "FROM default.`ratings_pq_s3` t0\n",
      "  INNER JOIN default.`movies_pq_s3` t1\n",
      "    ON t0.`movieid` = t1.`movieid`\n",
      "['userid', 'movieid', 'rating', 'timestamp', 'title']\n"
     ]
    },
    {
     "data": {
      "text/plain": [
       "20000263"
      ]
     },
     "execution_count": 30,
     "metadata": {},
     "output_type": "execute_result"
    }
   ],
   "source": [
    "joined = ratings.join(movies, ['movieid'])[ratings, movies['title']]\n",
    "print(ibis.impala.compile(joined))\n",
    "print(joined.materialize().columns)\n",
    "joined.count()"
   ]
  },
  {
   "cell_type": "markdown",
   "metadata": {},
   "source": [
    "### 評価データの日付をdatetime型に変えてjoinする\n",
    "\n",
    "クエリは複雑だけど、Impalaの実行計画は上とかわらない"
   ]
  },
  {
   "cell_type": "code",
   "execution_count": 31,
   "metadata": {
    "collapsed": false
   },
   "outputs": [
    {
     "name": "stdout",
     "output_type": "stream",
     "text": [
      "SELECT t0.*, t1.`title`\n",
      "FROM (\n",
      "  SELECT `userid`, `movieid`, `rating`,\n",
      "         CAST(`timestamp` AS timestamp) AS `datetime`\n",
      "  FROM default.`ratings_pq_s3`\n",
      ") t0\n",
      "  INNER JOIN default.`movies_pq_s3` t1\n",
      "    ON t0.`movieid` = t1.`movieid`\n"
     ]
    },
    {
     "data": {
      "text/plain": [
       "20000263"
      ]
     },
     "execution_count": 31,
     "metadata": {},
     "output_type": "execute_result"
    }
   ],
   "source": [
    "expr = ratings.timestamp.cast('timestamp')\n",
    "ratings2 = ratings['userid', 'movieid', 'rating', expr.name('datetime') ]\n",
    "joined2 = ratings2.join(movies, ['movieid'])[ratings2, movies['title']]\n",
    "print(ibis.impala.compile(joined2))\n",
    "#print(ibis.impala.compile(joined2.count()))\n",
    "joined2.count()"
   ]
  },
  {
   "cell_type": "code",
   "execution_count": 32,
   "metadata": {
    "collapsed": false,
    "scrolled": true
   },
   "outputs": [
    {
     "data": {
      "text/html": [
       "<div>\n",
       "<table border=\"1\" class=\"dataframe\">\n",
       "  <thead>\n",
       "    <tr style=\"text-align: right;\">\n",
       "      <th></th>\n",
       "      <th>userid</th>\n",
       "      <th>movieid</th>\n",
       "      <th>rating</th>\n",
       "      <th>datetime</th>\n",
       "      <th>title</th>\n",
       "    </tr>\n",
       "  </thead>\n",
       "  <tbody>\n",
       "    <tr>\n",
       "      <th>0</th>\n",
       "      <td>1</td>\n",
       "      <td>2</td>\n",
       "      <td>3.5</td>\n",
       "      <td>2005-04-02 23:53:47</td>\n",
       "      <td>Jumanji (1995)</td>\n",
       "    </tr>\n",
       "    <tr>\n",
       "      <th>1</th>\n",
       "      <td>1</td>\n",
       "      <td>29</td>\n",
       "      <td>3.5</td>\n",
       "      <td>2005-04-02 23:31:16</td>\n",
       "      <td>City of Lost Children, The (Cité des enfants p...</td>\n",
       "    </tr>\n",
       "    <tr>\n",
       "      <th>2</th>\n",
       "      <td>1</td>\n",
       "      <td>32</td>\n",
       "      <td>3.5</td>\n",
       "      <td>2005-04-02 23:33:39</td>\n",
       "      <td>Twelve Monkeys (a.k.a. 12 Monkeys) (1995)</td>\n",
       "    </tr>\n",
       "    <tr>\n",
       "      <th>3</th>\n",
       "      <td>1</td>\n",
       "      <td>47</td>\n",
       "      <td>3.5</td>\n",
       "      <td>2005-04-02 23:32:07</td>\n",
       "      <td>Seven (a.k.a. Se7en) (1995)</td>\n",
       "    </tr>\n",
       "    <tr>\n",
       "      <th>4</th>\n",
       "      <td>1</td>\n",
       "      <td>50</td>\n",
       "      <td>3.5</td>\n",
       "      <td>2005-04-02 23:29:40</td>\n",
       "      <td>Usual Suspects, The (1995)</td>\n",
       "    </tr>\n",
       "    <tr>\n",
       "      <th>5</th>\n",
       "      <td>1</td>\n",
       "      <td>112</td>\n",
       "      <td>3.5</td>\n",
       "      <td>2004-09-10 03:09:00</td>\n",
       "      <td>Rumble in the Bronx (Hont faan kui) (1995)</td>\n",
       "    </tr>\n",
       "    <tr>\n",
       "      <th>6</th>\n",
       "      <td>1</td>\n",
       "      <td>151</td>\n",
       "      <td>4.0</td>\n",
       "      <td>2004-09-10 03:08:54</td>\n",
       "      <td>Rob Roy (1995)</td>\n",
       "    </tr>\n",
       "    <tr>\n",
       "      <th>7</th>\n",
       "      <td>1</td>\n",
       "      <td>223</td>\n",
       "      <td>4.0</td>\n",
       "      <td>2005-04-02 23:46:13</td>\n",
       "      <td>Clerks (1994)</td>\n",
       "    </tr>\n",
       "    <tr>\n",
       "      <th>8</th>\n",
       "      <td>1</td>\n",
       "      <td>253</td>\n",
       "      <td>4.0</td>\n",
       "      <td>2005-04-02 23:35:40</td>\n",
       "      <td>Interview with the Vampire: The Vampire Chroni...</td>\n",
       "    </tr>\n",
       "    <tr>\n",
       "      <th>9</th>\n",
       "      <td>1</td>\n",
       "      <td>260</td>\n",
       "      <td>4.0</td>\n",
       "      <td>2005-04-02 23:33:46</td>\n",
       "      <td>Star Wars: Episode IV - A New Hope (1977)</td>\n",
       "    </tr>\n",
       "    <tr>\n",
       "      <th>10</th>\n",
       "      <td>1</td>\n",
       "      <td>293</td>\n",
       "      <td>4.0</td>\n",
       "      <td>2005-04-02 23:31:43</td>\n",
       "      <td>Léon: The Professional (a.k.a. The Professiona...</td>\n",
       "    </tr>\n",
       "    <tr>\n",
       "      <th>11</th>\n",
       "      <td>1</td>\n",
       "      <td>296</td>\n",
       "      <td>4.0</td>\n",
       "      <td>2005-04-02 23:32:47</td>\n",
       "      <td>Pulp Fiction (1994)</td>\n",
       "    </tr>\n",
       "    <tr>\n",
       "      <th>12</th>\n",
       "      <td>1</td>\n",
       "      <td>318</td>\n",
       "      <td>4.0</td>\n",
       "      <td>2005-04-02 23:33:18</td>\n",
       "      <td>Shawshank Redemption, The (1994)</td>\n",
       "    </tr>\n",
       "    <tr>\n",
       "      <th>13</th>\n",
       "      <td>1</td>\n",
       "      <td>337</td>\n",
       "      <td>3.5</td>\n",
       "      <td>2004-09-10 03:08:29</td>\n",
       "      <td>What's Eating Gilbert Grape (1993)</td>\n",
       "    </tr>\n",
       "    <tr>\n",
       "      <th>14</th>\n",
       "      <td>1</td>\n",
       "      <td>367</td>\n",
       "      <td>3.5</td>\n",
       "      <td>2005-04-02 23:53:00</td>\n",
       "      <td>Mask, The (1994)</td>\n",
       "    </tr>\n",
       "    <tr>\n",
       "      <th>15</th>\n",
       "      <td>1</td>\n",
       "      <td>541</td>\n",
       "      <td>4.0</td>\n",
       "      <td>2005-04-02 23:30:03</td>\n",
       "      <td>Blade Runner (1982)</td>\n",
       "    </tr>\n",
       "    <tr>\n",
       "      <th>16</th>\n",
       "      <td>1</td>\n",
       "      <td>589</td>\n",
       "      <td>3.5</td>\n",
       "      <td>2005-04-02 23:45:57</td>\n",
       "      <td>Terminator 2: Judgment Day (1991)</td>\n",
       "    </tr>\n",
       "    <tr>\n",
       "      <th>17</th>\n",
       "      <td>1</td>\n",
       "      <td>593</td>\n",
       "      <td>3.5</td>\n",
       "      <td>2005-04-02 23:31:01</td>\n",
       "      <td>Silence of the Lambs, The (1991)</td>\n",
       "    </tr>\n",
       "    <tr>\n",
       "      <th>18</th>\n",
       "      <td>1</td>\n",
       "      <td>653</td>\n",
       "      <td>3.0</td>\n",
       "      <td>2004-09-10 03:08:11</td>\n",
       "      <td>Dragonheart (1996)</td>\n",
       "    </tr>\n",
       "    <tr>\n",
       "      <th>19</th>\n",
       "      <td>1</td>\n",
       "      <td>919</td>\n",
       "      <td>3.5</td>\n",
       "      <td>2004-09-10 03:07:01</td>\n",
       "      <td>Wizard of Oz, The (1939)</td>\n",
       "    </tr>\n",
       "    <tr>\n",
       "      <th>20</th>\n",
       "      <td>1</td>\n",
       "      <td>924</td>\n",
       "      <td>3.5</td>\n",
       "      <td>2004-09-10 03:06:38</td>\n",
       "      <td>2001: A Space Odyssey (1968)</td>\n",
       "    </tr>\n",
       "    <tr>\n",
       "      <th>21</th>\n",
       "      <td>1</td>\n",
       "      <td>1009</td>\n",
       "      <td>3.5</td>\n",
       "      <td>2005-04-02 23:53:33</td>\n",
       "      <td>Escape to Witch Mountain (1975)</td>\n",
       "    </tr>\n",
       "    <tr>\n",
       "      <th>22</th>\n",
       "      <td>1</td>\n",
       "      <td>1036</td>\n",
       "      <td>4.0</td>\n",
       "      <td>2005-04-02 23:44:40</td>\n",
       "      <td>Die Hard (1988)</td>\n",
       "    </tr>\n",
       "    <tr>\n",
       "      <th>23</th>\n",
       "      <td>1</td>\n",
       "      <td>1079</td>\n",
       "      <td>4.0</td>\n",
       "      <td>2004-09-10 03:07:45</td>\n",
       "      <td>Fish Called Wanda, A (1988)</td>\n",
       "    </tr>\n",
       "    <tr>\n",
       "      <th>24</th>\n",
       "      <td>1</td>\n",
       "      <td>1080</td>\n",
       "      <td>3.5</td>\n",
       "      <td>2005-04-02 23:42:55</td>\n",
       "      <td>Monty Python's Life of Brian (1979)</td>\n",
       "    </tr>\n",
       "    <tr>\n",
       "      <th>25</th>\n",
       "      <td>1</td>\n",
       "      <td>1089</td>\n",
       "      <td>3.5</td>\n",
       "      <td>2005-04-02 23:31:09</td>\n",
       "      <td>Reservoir Dogs (1992)</td>\n",
       "    </tr>\n",
       "    <tr>\n",
       "      <th>26</th>\n",
       "      <td>1</td>\n",
       "      <td>1090</td>\n",
       "      <td>4.0</td>\n",
       "      <td>2005-04-02 23:44:13</td>\n",
       "      <td>Platoon (1986)</td>\n",
       "    </tr>\n",
       "    <tr>\n",
       "      <th>27</th>\n",
       "      <td>1</td>\n",
       "      <td>1097</td>\n",
       "      <td>4.0</td>\n",
       "      <td>2005-04-02 23:48:21</td>\n",
       "      <td>E.T. the Extra-Terrestrial (1982)</td>\n",
       "    </tr>\n",
       "    <tr>\n",
       "      <th>28</th>\n",
       "      <td>1</td>\n",
       "      <td>1136</td>\n",
       "      <td>3.5</td>\n",
       "      <td>2005-04-02 23:30:09</td>\n",
       "      <td>Monty Python and the Holy Grail (1975)</td>\n",
       "    </tr>\n",
       "    <tr>\n",
       "      <th>29</th>\n",
       "      <td>1</td>\n",
       "      <td>1193</td>\n",
       "      <td>3.5</td>\n",
       "      <td>2005-04-02 23:31:30</td>\n",
       "      <td>One Flew Over the Cuckoo's Nest (1975)</td>\n",
       "    </tr>\n",
       "    <tr>\n",
       "      <th>...</th>\n",
       "      <td>...</td>\n",
       "      <td>...</td>\n",
       "      <td>...</td>\n",
       "      <td>...</td>\n",
       "      <td>...</td>\n",
       "    </tr>\n",
       "    <tr>\n",
       "      <th>970</th>\n",
       "      <td>11</td>\n",
       "      <td>158</td>\n",
       "      <td>4.0</td>\n",
       "      <td>2009-01-01 23:52:53</td>\n",
       "      <td>Casper (1995)</td>\n",
       "    </tr>\n",
       "    <tr>\n",
       "      <th>971</th>\n",
       "      <td>11</td>\n",
       "      <td>160</td>\n",
       "      <td>4.0</td>\n",
       "      <td>2009-01-01 05:27:01</td>\n",
       "      <td>Congo (1995)</td>\n",
       "    </tr>\n",
       "    <tr>\n",
       "      <th>972</th>\n",
       "      <td>11</td>\n",
       "      <td>165</td>\n",
       "      <td>4.0</td>\n",
       "      <td>2009-01-02 01:15:00</td>\n",
       "      <td>Die Hard: With a Vengeance (1995)</td>\n",
       "    </tr>\n",
       "    <tr>\n",
       "      <th>973</th>\n",
       "      <td>11</td>\n",
       "      <td>170</td>\n",
       "      <td>5.0</td>\n",
       "      <td>2009-01-01 04:02:14</td>\n",
       "      <td>Hackers (1995)</td>\n",
       "    </tr>\n",
       "    <tr>\n",
       "      <th>974</th>\n",
       "      <td>11</td>\n",
       "      <td>172</td>\n",
       "      <td>5.0</td>\n",
       "      <td>2009-01-01 05:30:04</td>\n",
       "      <td>Johnny Mnemonic (1995)</td>\n",
       "    </tr>\n",
       "    <tr>\n",
       "      <th>975</th>\n",
       "      <td>11</td>\n",
       "      <td>173</td>\n",
       "      <td>5.0</td>\n",
       "      <td>2009-01-01 05:49:14</td>\n",
       "      <td>Judge Dredd (1995)</td>\n",
       "    </tr>\n",
       "    <tr>\n",
       "      <th>976</th>\n",
       "      <td>11</td>\n",
       "      <td>185</td>\n",
       "      <td>4.0</td>\n",
       "      <td>2009-01-02 01:16:55</td>\n",
       "      <td>Net, The (1995)</td>\n",
       "    </tr>\n",
       "    <tr>\n",
       "      <th>977</th>\n",
       "      <td>11</td>\n",
       "      <td>208</td>\n",
       "      <td>4.5</td>\n",
       "      <td>2009-01-01 05:31:10</td>\n",
       "      <td>Waterworld (1995)</td>\n",
       "    </tr>\n",
       "    <tr>\n",
       "      <th>978</th>\n",
       "      <td>11</td>\n",
       "      <td>231</td>\n",
       "      <td>4.0</td>\n",
       "      <td>2009-01-02 01:15:45</td>\n",
       "      <td>Dumb &amp; Dumber (Dumb and Dumber) (1994)</td>\n",
       "    </tr>\n",
       "    <tr>\n",
       "      <th>979</th>\n",
       "      <td>11</td>\n",
       "      <td>253</td>\n",
       "      <td>4.5</td>\n",
       "      <td>2009-01-02 01:16:36</td>\n",
       "      <td>Interview with the Vampire: The Vampire Chroni...</td>\n",
       "    </tr>\n",
       "    <tr>\n",
       "      <th>980</th>\n",
       "      <td>11</td>\n",
       "      <td>256</td>\n",
       "      <td>5.0</td>\n",
       "      <td>2009-01-01 05:49:06</td>\n",
       "      <td>Junior (1994)</td>\n",
       "    </tr>\n",
       "    <tr>\n",
       "      <th>981</th>\n",
       "      <td>11</td>\n",
       "      <td>260</td>\n",
       "      <td>5.0</td>\n",
       "      <td>2009-01-01 05:26:00</td>\n",
       "      <td>Star Wars: Episode IV - A New Hope (1977)</td>\n",
       "    </tr>\n",
       "    <tr>\n",
       "      <th>982</th>\n",
       "      <td>11</td>\n",
       "      <td>286</td>\n",
       "      <td>0.5</td>\n",
       "      <td>2009-01-01 05:30:31</td>\n",
       "      <td>Nemesis 2: Nebula (1995)</td>\n",
       "    </tr>\n",
       "    <tr>\n",
       "      <th>983</th>\n",
       "      <td>11</td>\n",
       "      <td>296</td>\n",
       "      <td>3.5</td>\n",
       "      <td>2009-01-02 01:13:19</td>\n",
       "      <td>Pulp Fiction (1994)</td>\n",
       "    </tr>\n",
       "    <tr>\n",
       "      <th>984</th>\n",
       "      <td>11</td>\n",
       "      <td>316</td>\n",
       "      <td>3.5</td>\n",
       "      <td>2009-01-01 05:41:36</td>\n",
       "      <td>Stargate (1994)</td>\n",
       "    </tr>\n",
       "    <tr>\n",
       "      <th>985</th>\n",
       "      <td>11</td>\n",
       "      <td>318</td>\n",
       "      <td>5.0</td>\n",
       "      <td>2009-01-01 22:56:11</td>\n",
       "      <td>Shawshank Redemption, The (1994)</td>\n",
       "    </tr>\n",
       "    <tr>\n",
       "      <th>986</th>\n",
       "      <td>11</td>\n",
       "      <td>344</td>\n",
       "      <td>3.5</td>\n",
       "      <td>2009-01-01 04:21:40</td>\n",
       "      <td>Ace Ventura: Pet Detective (1994)</td>\n",
       "    </tr>\n",
       "    <tr>\n",
       "      <th>987</th>\n",
       "      <td>11</td>\n",
       "      <td>356</td>\n",
       "      <td>5.0</td>\n",
       "      <td>2009-01-02 01:13:24</td>\n",
       "      <td>Forrest Gump (1994)</td>\n",
       "    </tr>\n",
       "    <tr>\n",
       "      <th>988</th>\n",
       "      <td>11</td>\n",
       "      <td>364</td>\n",
       "      <td>4.0</td>\n",
       "      <td>2009-01-02 01:15:19</td>\n",
       "      <td>Lion King, The (1994)</td>\n",
       "    </tr>\n",
       "    <tr>\n",
       "      <th>989</th>\n",
       "      <td>11</td>\n",
       "      <td>367</td>\n",
       "      <td>4.0</td>\n",
       "      <td>2009-01-02 01:15:54</td>\n",
       "      <td>Mask, The (1994)</td>\n",
       "    </tr>\n",
       "    <tr>\n",
       "      <th>990</th>\n",
       "      <td>11</td>\n",
       "      <td>377</td>\n",
       "      <td>4.0</td>\n",
       "      <td>2009-01-02 01:14:40</td>\n",
       "      <td>Speed (1994)</td>\n",
       "    </tr>\n",
       "    <tr>\n",
       "      <th>991</th>\n",
       "      <td>11</td>\n",
       "      <td>380</td>\n",
       "      <td>5.0</td>\n",
       "      <td>2009-08-25 03:27:37</td>\n",
       "      <td>True Lies (1994)</td>\n",
       "    </tr>\n",
       "    <tr>\n",
       "      <th>992</th>\n",
       "      <td>11</td>\n",
       "      <td>384</td>\n",
       "      <td>3.5</td>\n",
       "      <td>2009-01-01 04:59:27</td>\n",
       "      <td>Bad Company (1995)</td>\n",
       "    </tr>\n",
       "    <tr>\n",
       "      <th>993</th>\n",
       "      <td>11</td>\n",
       "      <td>405</td>\n",
       "      <td>3.5</td>\n",
       "      <td>2009-01-01 05:27:43</td>\n",
       "      <td>Highlander III: The Sorcerer (a.k.a. Highlande...</td>\n",
       "    </tr>\n",
       "    <tr>\n",
       "      <th>994</th>\n",
       "      <td>11</td>\n",
       "      <td>410</td>\n",
       "      <td>4.0</td>\n",
       "      <td>2009-01-01 04:23:06</td>\n",
       "      <td>Addams Family Values (1993)</td>\n",
       "    </tr>\n",
       "    <tr>\n",
       "      <th>995</th>\n",
       "      <td>11</td>\n",
       "      <td>441</td>\n",
       "      <td>1.5</td>\n",
       "      <td>2009-01-01 23:52:42</td>\n",
       "      <td>Dazed and Confused (1993)</td>\n",
       "    </tr>\n",
       "    <tr>\n",
       "      <th>996</th>\n",
       "      <td>11</td>\n",
       "      <td>442</td>\n",
       "      <td>4.5</td>\n",
       "      <td>2009-01-01 05:33:22</td>\n",
       "      <td>Demolition Man (1993)</td>\n",
       "    </tr>\n",
       "    <tr>\n",
       "      <th>997</th>\n",
       "      <td>11</td>\n",
       "      <td>480</td>\n",
       "      <td>5.0</td>\n",
       "      <td>2009-01-01 05:45:13</td>\n",
       "      <td>Jurassic Park (1993)</td>\n",
       "    </tr>\n",
       "    <tr>\n",
       "      <th>998</th>\n",
       "      <td>11</td>\n",
       "      <td>500</td>\n",
       "      <td>4.5</td>\n",
       "      <td>2009-01-02 01:15:49</td>\n",
       "      <td>Mrs. Doubtfire (1993)</td>\n",
       "    </tr>\n",
       "    <tr>\n",
       "      <th>999</th>\n",
       "      <td>11</td>\n",
       "      <td>519</td>\n",
       "      <td>1.0</td>\n",
       "      <td>2009-01-01 05:26:31</td>\n",
       "      <td>RoboCop 3 (1993)</td>\n",
       "    </tr>\n",
       "  </tbody>\n",
       "</table>\n",
       "<p>1000 rows × 5 columns</p>\n",
       "</div>"
      ],
      "text/plain": [
       "     userid  movieid  rating            datetime  \\\n",
       "0         1        2     3.5 2005-04-02 23:53:47   \n",
       "1         1       29     3.5 2005-04-02 23:31:16   \n",
       "2         1       32     3.5 2005-04-02 23:33:39   \n",
       "3         1       47     3.5 2005-04-02 23:32:07   \n",
       "4         1       50     3.5 2005-04-02 23:29:40   \n",
       "5         1      112     3.5 2004-09-10 03:09:00   \n",
       "6         1      151     4.0 2004-09-10 03:08:54   \n",
       "7         1      223     4.0 2005-04-02 23:46:13   \n",
       "8         1      253     4.0 2005-04-02 23:35:40   \n",
       "9         1      260     4.0 2005-04-02 23:33:46   \n",
       "10        1      293     4.0 2005-04-02 23:31:43   \n",
       "11        1      296     4.0 2005-04-02 23:32:47   \n",
       "12        1      318     4.0 2005-04-02 23:33:18   \n",
       "13        1      337     3.5 2004-09-10 03:08:29   \n",
       "14        1      367     3.5 2005-04-02 23:53:00   \n",
       "15        1      541     4.0 2005-04-02 23:30:03   \n",
       "16        1      589     3.5 2005-04-02 23:45:57   \n",
       "17        1      593     3.5 2005-04-02 23:31:01   \n",
       "18        1      653     3.0 2004-09-10 03:08:11   \n",
       "19        1      919     3.5 2004-09-10 03:07:01   \n",
       "20        1      924     3.5 2004-09-10 03:06:38   \n",
       "21        1     1009     3.5 2005-04-02 23:53:33   \n",
       "22        1     1036     4.0 2005-04-02 23:44:40   \n",
       "23        1     1079     4.0 2004-09-10 03:07:45   \n",
       "24        1     1080     3.5 2005-04-02 23:42:55   \n",
       "25        1     1089     3.5 2005-04-02 23:31:09   \n",
       "26        1     1090     4.0 2005-04-02 23:44:13   \n",
       "27        1     1097     4.0 2005-04-02 23:48:21   \n",
       "28        1     1136     3.5 2005-04-02 23:30:09   \n",
       "29        1     1193     3.5 2005-04-02 23:31:30   \n",
       "..      ...      ...     ...                 ...   \n",
       "970      11      158     4.0 2009-01-01 23:52:53   \n",
       "971      11      160     4.0 2009-01-01 05:27:01   \n",
       "972      11      165     4.0 2009-01-02 01:15:00   \n",
       "973      11      170     5.0 2009-01-01 04:02:14   \n",
       "974      11      172     5.0 2009-01-01 05:30:04   \n",
       "975      11      173     5.0 2009-01-01 05:49:14   \n",
       "976      11      185     4.0 2009-01-02 01:16:55   \n",
       "977      11      208     4.5 2009-01-01 05:31:10   \n",
       "978      11      231     4.0 2009-01-02 01:15:45   \n",
       "979      11      253     4.5 2009-01-02 01:16:36   \n",
       "980      11      256     5.0 2009-01-01 05:49:06   \n",
       "981      11      260     5.0 2009-01-01 05:26:00   \n",
       "982      11      286     0.5 2009-01-01 05:30:31   \n",
       "983      11      296     3.5 2009-01-02 01:13:19   \n",
       "984      11      316     3.5 2009-01-01 05:41:36   \n",
       "985      11      318     5.0 2009-01-01 22:56:11   \n",
       "986      11      344     3.5 2009-01-01 04:21:40   \n",
       "987      11      356     5.0 2009-01-02 01:13:24   \n",
       "988      11      364     4.0 2009-01-02 01:15:19   \n",
       "989      11      367     4.0 2009-01-02 01:15:54   \n",
       "990      11      377     4.0 2009-01-02 01:14:40   \n",
       "991      11      380     5.0 2009-08-25 03:27:37   \n",
       "992      11      384     3.5 2009-01-01 04:59:27   \n",
       "993      11      405     3.5 2009-01-01 05:27:43   \n",
       "994      11      410     4.0 2009-01-01 04:23:06   \n",
       "995      11      441     1.5 2009-01-01 23:52:42   \n",
       "996      11      442     4.5 2009-01-01 05:33:22   \n",
       "997      11      480     5.0 2009-01-01 05:45:13   \n",
       "998      11      500     4.5 2009-01-02 01:15:49   \n",
       "999      11      519     1.0 2009-01-01 05:26:31   \n",
       "\n",
       "                                                 title  \n",
       "0                                       Jumanji (1995)  \n",
       "1    City of Lost Children, The (Cité des enfants p...  \n",
       "2            Twelve Monkeys (a.k.a. 12 Monkeys) (1995)  \n",
       "3                          Seven (a.k.a. Se7en) (1995)  \n",
       "4                           Usual Suspects, The (1995)  \n",
       "5           Rumble in the Bronx (Hont faan kui) (1995)  \n",
       "6                                       Rob Roy (1995)  \n",
       "7                                        Clerks (1994)  \n",
       "8    Interview with the Vampire: The Vampire Chroni...  \n",
       "9            Star Wars: Episode IV - A New Hope (1977)  \n",
       "10   Léon: The Professional (a.k.a. The Professiona...  \n",
       "11                                 Pulp Fiction (1994)  \n",
       "12                    Shawshank Redemption, The (1994)  \n",
       "13                  What's Eating Gilbert Grape (1993)  \n",
       "14                                    Mask, The (1994)  \n",
       "15                                 Blade Runner (1982)  \n",
       "16                   Terminator 2: Judgment Day (1991)  \n",
       "17                    Silence of the Lambs, The (1991)  \n",
       "18                                  Dragonheart (1996)  \n",
       "19                            Wizard of Oz, The (1939)  \n",
       "20                        2001: A Space Odyssey (1968)  \n",
       "21                     Escape to Witch Mountain (1975)  \n",
       "22                                     Die Hard (1988)  \n",
       "23                         Fish Called Wanda, A (1988)  \n",
       "24                 Monty Python's Life of Brian (1979)  \n",
       "25                               Reservoir Dogs (1992)  \n",
       "26                                      Platoon (1986)  \n",
       "27                   E.T. the Extra-Terrestrial (1982)  \n",
       "28              Monty Python and the Holy Grail (1975)  \n",
       "29              One Flew Over the Cuckoo's Nest (1975)  \n",
       "..                                                 ...  \n",
       "970                                      Casper (1995)  \n",
       "971                                       Congo (1995)  \n",
       "972                  Die Hard: With a Vengeance (1995)  \n",
       "973                                     Hackers (1995)  \n",
       "974                             Johnny Mnemonic (1995)  \n",
       "975                                 Judge Dredd (1995)  \n",
       "976                                    Net, The (1995)  \n",
       "977                                  Waterworld (1995)  \n",
       "978             Dumb & Dumber (Dumb and Dumber) (1994)  \n",
       "979  Interview with the Vampire: The Vampire Chroni...  \n",
       "980                                      Junior (1994)  \n",
       "981          Star Wars: Episode IV - A New Hope (1977)  \n",
       "982                           Nemesis 2: Nebula (1995)  \n",
       "983                                Pulp Fiction (1994)  \n",
       "984                                    Stargate (1994)  \n",
       "985                   Shawshank Redemption, The (1994)  \n",
       "986                  Ace Ventura: Pet Detective (1994)  \n",
       "987                                Forrest Gump (1994)  \n",
       "988                              Lion King, The (1994)  \n",
       "989                                   Mask, The (1994)  \n",
       "990                                       Speed (1994)  \n",
       "991                                   True Lies (1994)  \n",
       "992                                 Bad Company (1995)  \n",
       "993  Highlander III: The Sorcerer (a.k.a. Highlande...  \n",
       "994                        Addams Family Values (1993)  \n",
       "995                          Dazed and Confused (1993)  \n",
       "996                              Demolition Man (1993)  \n",
       "997                               Jurassic Park (1993)  \n",
       "998                              Mrs. Doubtfire (1993)  \n",
       "999                                   RoboCop 3 (1993)  \n",
       "\n",
       "[1000 rows x 5 columns]"
      ]
     },
     "execution_count": 32,
     "metadata": {},
     "output_type": "execute_result"
    }
   ],
   "source": [
    "df2 = joined2.materialize().limit(1000).execute()\n",
    "df2"
   ]
  },
  {
   "cell_type": "markdown",
   "metadata": {},
   "source": [
    "### 評価値毎に集計をする"
   ]
  },
  {
   "cell_type": "code",
   "execution_count": 33,
   "metadata": {
    "collapsed": false,
    "scrolled": false
   },
   "outputs": [
    {
     "data": {
      "text/plain": [
       "   rating    total\n",
       "0     0.5   239125\n",
       "1     1.5   279252\n",
       "2     3.5  2200156\n",
       "3     1.0   680732\n",
       "4     2.0  1430997\n",
       "5     4.5  1534824\n",
       "6     5.0  2898660\n",
       "7     2.5   883398\n",
       "8     4.0  5561926\n",
       "9     3.0  4291193"
      ]
     },
     "execution_count": 33,
     "metadata": {},
     "output_type": "execute_result"
    }
   ],
   "source": [
    "rating_hist = ratings.group_by(ratings.rating).aggregate(total=ratings.count())\n",
    "rating_hist"
   ]
  },
  {
   "cell_type": "code",
   "execution_count": 34,
   "metadata": {
    "collapsed": false,
    "scrolled": false
   },
   "outputs": [
    {
     "data": {
      "text/html": [
       "<div>\n",
       "<table border=\"1\" class=\"dataframe\">\n",
       "  <thead>\n",
       "    <tr style=\"text-align: right;\">\n",
       "      <th></th>\n",
       "      <th>rating</th>\n",
       "      <th>total</th>\n",
       "    </tr>\n",
       "  </thead>\n",
       "  <tbody>\n",
       "    <tr>\n",
       "      <th>0</th>\n",
       "      <td>3.5</td>\n",
       "      <td>2200156</td>\n",
       "    </tr>\n",
       "    <tr>\n",
       "      <th>1</th>\n",
       "      <td>2.0</td>\n",
       "      <td>1430997</td>\n",
       "    </tr>\n",
       "    <tr>\n",
       "      <th>2</th>\n",
       "      <td>4.5</td>\n",
       "      <td>1534824</td>\n",
       "    </tr>\n",
       "    <tr>\n",
       "      <th>3</th>\n",
       "      <td>5.0</td>\n",
       "      <td>2898660</td>\n",
       "    </tr>\n",
       "    <tr>\n",
       "      <th>4</th>\n",
       "      <td>2.5</td>\n",
       "      <td>883398</td>\n",
       "    </tr>\n",
       "    <tr>\n",
       "      <th>5</th>\n",
       "      <td>4.0</td>\n",
       "      <td>5561926</td>\n",
       "    </tr>\n",
       "    <tr>\n",
       "      <th>6</th>\n",
       "      <td>3.0</td>\n",
       "      <td>4291193</td>\n",
       "    </tr>\n",
       "    <tr>\n",
       "      <th>7</th>\n",
       "      <td>0.5</td>\n",
       "      <td>239125</td>\n",
       "    </tr>\n",
       "    <tr>\n",
       "      <th>8</th>\n",
       "      <td>1.5</td>\n",
       "      <td>279252</td>\n",
       "    </tr>\n",
       "    <tr>\n",
       "      <th>9</th>\n",
       "      <td>1.0</td>\n",
       "      <td>680732</td>\n",
       "    </tr>\n",
       "  </tbody>\n",
       "</table>\n",
       "</div>"
      ],
      "text/plain": [
       "   rating    total\n",
       "0     3.5  2200156\n",
       "1     2.0  1430997\n",
       "2     4.5  1534824\n",
       "3     5.0  2898660\n",
       "4     2.5   883398\n",
       "5     4.0  5561926\n",
       "6     3.0  4291193\n",
       "7     0.5   239125\n",
       "8     1.5   279252\n",
       "9     1.0   680732"
      ]
     },
     "execution_count": 34,
     "metadata": {},
     "output_type": "execute_result"
    }
   ],
   "source": [
    "df = rating_hist.execute()\n",
    "df"
   ]
  },
  {
   "cell_type": "markdown",
   "metadata": {},
   "source": [
    "集計の結果、3点,4点に集中していることがわかる。"
   ]
  },
  {
   "cell_type": "code",
   "execution_count": 35,
   "metadata": {
    "collapsed": false
   },
   "outputs": [
    {
     "data": {
      "text/plain": [
       "<matplotlib.axes._subplots.AxesSubplot at 0x1079ff390>"
      ]
     },
     "execution_count": 35,
     "metadata": {},
     "output_type": "execute_result"
    },
    {
     "data": {
      "image/png": "[encoded data removed]",
      "text/plain": [
       "<matplotlib.figure.Figure at 0x107c3e278>"
      ]
     },
     "metadata": {},
     "output_type": "display_data"
    }
   ],
   "source": [
    "sns.barplot(x='rating', y='total', data=df)"
   ]
  },
  {
   "cell_type": "markdown",
   "metadata": {},
   "source": [
    "### 特定の点数より大きいデータの数を数える"
   ]
  },
  {
   "cell_type": "code",
   "execution_count": 36,
   "metadata": {
    "collapsed": false,
    "scrolled": false
   },
   "outputs": [
    {
     "data": {
      "text/plain": [
       "4433484"
      ]
     },
     "execution_count": 36,
     "metadata": {},
     "output_type": "execute_result"
    }
   ],
   "source": [
    "ratings.filter([ratings.rating > 4.0]).count()"
   ]
  },
  {
   "cell_type": "code",
   "execution_count": 37,
   "metadata": {
    "collapsed": false
   },
   "outputs": [
    {
     "data": {
      "text/plain": [
       "12195566"
      ]
     },
     "execution_count": 37,
     "metadata": {},
     "output_type": "execute_result"
    }
   ],
   "source": [
    "ratings.filter([ratings.rating > 3.0]).count()"
   ]
  },
  {
   "cell_type": "markdown",
   "metadata": {},
   "source": [
    "### 特定の日付以前/以降のデータの数を数える\n",
    "\n",
    "- 2015/1/1より後のレビューデータ\n",
    "- 2015/1/1より前のレビューデータ\n",
    "\n",
    "の件数をカウントする"
   ]
  },
  {
   "cell_type": "code",
   "execution_count": 38,
   "metadata": {
    "collapsed": false,
    "scrolled": true
   },
   "outputs": [
    {
     "name": "stdout",
     "output_type": "stream",
     "text": [
      "SELECT count(*) AS `count`\n",
      "FROM (\n",
      "  SELECT t3.*, t1.`title`\n",
      "  FROM (\n",
      "    SELECT `userid`, `movieid`, `rating`,\n",
      "           CAST(`timestamp` AS timestamp) AS `datetime`\n",
      "    FROM default.`ratings_pq_s3`\n",
      "  ) t3\n",
      "    INNER JOIN default.`movies_pq_s3` t1\n",
      "      ON t3.`movieid` = t1.`movieid`\n",
      ") t0\n",
      "WHERE t0.`datetime` > '2015-01-01'\n"
     ]
    },
    {
     "data": {
      "text/plain": [
       "283886"
      ]
     },
     "execution_count": 38,
     "metadata": {},
     "output_type": "execute_result"
    }
   ],
   "source": [
    "expr = joined2.filter([joined2.datetime > '2015-01-01']).count()\n",
    "print(ibis.impala.compile(expr))\n",
    "expr"
   ]
  },
  {
   "cell_type": "code",
   "execution_count": 39,
   "metadata": {
    "collapsed": false
   },
   "outputs": [
    {
     "data": {
      "text/plain": [
       "19716377"
      ]
     },
     "execution_count": 39,
     "metadata": {},
     "output_type": "execute_result"
    }
   ],
   "source": [
    "joined2.filter([joined2.datetime < '2015-01-01']).count()"
   ]
  },
  {
   "cell_type": "markdown",
   "metadata": {},
   "source": [
    "### 年ごとのレビュー件数を集計する"
   ]
  },
  {
   "cell_type": "code",
   "execution_count": 40,
   "metadata": {
    "collapsed": false,
    "scrolled": true
   },
   "outputs": [
    {
     "data": {
      "text/plain": [
       "    year    total\n",
       "0   1995        4\n",
       "1   1996  1612609\n",
       "2   1997   700982\n",
       "3   1998   308070\n",
       "4   1999  1198384\n",
       "5   2000  1953659\n",
       "6   2001  1186125\n",
       "7   2002   869719\n",
       "8   2003  1035878\n",
       "9   2004  1170049\n",
       "10  2005  1803158\n",
       "11  2006  1171836\n",
       "12  2007  1053430\n",
       "13  2008  1158777\n",
       "14  2009   930036\n",
       "15  2010   903691\n",
       "16  2011   766366\n",
       "17  2012   731389\n",
       "18  2013   599327\n",
       "19  2014   562888\n",
       "20  2015   283886"
      ]
     },
     "execution_count": 40,
     "metadata": {},
     "output_type": "execute_result"
    }
   ],
   "source": [
    "joined_hist = joined2.group_by(joined2.datetime.year()).aggregate(total=joined2.count())\n",
    "joined_hist.sort_by(joined_hist.year)"
   ]
  },
  {
   "cell_type": "code",
   "execution_count": 41,
   "metadata": {
    "collapsed": false,
    "scrolled": false
   },
   "outputs": [
    {
     "data": {
      "text/plain": [
       "<matplotlib.axes._subplots.AxesSubplot at 0x107e23a20>"
      ]
     },
     "execution_count": 41,
     "metadata": {},
     "output_type": "execute_result"
    },
    {
     "data": {
      "image/png": "[encoded data removed]",
      "text/plain": [
       "<matplotlib.figure.Figure at 0x107ae9cf8>"
      ]
     },
     "metadata": {},
     "output_type": "display_data"
    }
   ],
   "source": [
    "sns.barplot(x='year', y='total', data=joined_hist.execute())"
   ]
  },
  {
   "cell_type": "markdown",
   "metadata": {},
   "source": [
    "### レビュー数が多い top 20 ユーザを抽出する"
   ]
  },
  {
   "cell_type": "code",
   "execution_count": 42,
   "metadata": {
    "collapsed": false,
    "scrolled": false
   },
   "outputs": [
    {
     "data": {
      "text/plain": [
       "    userid  count\n",
       "0   118205   9254\n",
       "1     8405   7515\n",
       "2    82418   5646\n",
       "3   121535   5520\n",
       "4   125794   5491\n",
       "5    74142   5447\n",
       "6    34576   5356\n",
       "7   131904   5330\n",
       "8    83090   5169\n",
       "9    59477   4988\n",
       "10  130767   4785\n",
       "11   79159   4707\n",
       "12    8963   4524\n",
       "13   15617   4354\n",
       "14   92011   4236\n",
       "15   71975   4182\n",
       "16   20132   4101\n",
       "17   46470   4094\n",
       "18   88820   4093\n",
       "19   63147   3958"
      ]
     },
     "execution_count": 42,
     "metadata": {},
     "output_type": "execute_result"
    }
   ],
   "source": [
    "joined2.group_by(joined2.userid). \\\n",
    "aggregate(count=joined2.count()).sort_by(('count', False)).limit(20)"
   ]
  },
  {
   "cell_type": "markdown",
   "metadata": {},
   "source": [
    "### 件数が多いタグ top 20を抽出する"
   ]
  },
  {
   "cell_type": "code",
   "execution_count": 43,
   "metadata": {
    "collapsed": false,
    "scrolled": false
   },
   "outputs": [
    {
     "data": {
      "text/plain": [
       "                   tag  count\n",
       "0               sci-fi   3384\n",
       "1      based on a book   3281\n",
       "2          atmospheric   2917\n",
       "3               comedy   2779\n",
       "4               action   2657\n",
       "5              surreal   2427\n",
       "6                 BD-R   2334\n",
       "7         twist ending   2323\n",
       "8                funny   2072\n",
       "9             dystopia   1991\n",
       "10            stylized   1941\n",
       "11              quirky   1906\n",
       "12         dark comedy   1899\n",
       "13             classic   1769\n",
       "14          psychology   1754\n",
       "15             fantasy   1703\n",
       "16         time travel   1549\n",
       "17             romance   1534\n",
       "18  visually appealing   1509\n",
       "19          disturbing   1487"
      ]
     },
     "execution_count": 43,
     "metadata": {},
     "output_type": "execute_result"
    }
   ],
   "source": [
    "tags.tag.value_counts().sort_by(('count', False)).limit(20)"
   ]
  },
  {
   "cell_type": "markdown",
   "metadata": {},
   "source": [
    "### レビューが一番多いユーザの年ごとの評価件数を調べる\n",
    "\n",
    "ただし、2001年の評価が圧倒的に多いので除外する。  "
   ]
  },
  {
   "cell_type": "code",
   "execution_count": 44,
   "metadata": {
    "collapsed": false,
    "scrolled": false
   },
   "outputs": [
    {
     "name": "stdout",
     "output_type": "stream",
     "text": [
      "SELECT t0.*\n",
      "FROM (\n",
      "  SELECT t3.*, t1.`title`\n",
      "  FROM (\n",
      "    SELECT `userid`, `movieid`, `rating`,\n",
      "           CAST(`timestamp` AS timestamp) AS `datetime`\n",
      "    FROM default.`ratings_pq_s3`\n",
      "  ) t3\n",
      "    INNER JOIN default.`movies_pq_s3` t1\n",
      "      ON t3.`movieid` = t1.`movieid`\n",
      ") t0\n",
      "WHERE t0.`userid` = 118205 AND\n",
      "      extract(t0.`datetime`, 'year') > 2001\n",
      "-----------------------------\n",
      "\n",
      "-----------------------------\n",
      "SELECT extract(t0.`datetime`, 'year') AS `year`, count(*) AS `total`\n",
      "FROM (\n",
      "  SELECT t3.*, t1.`title`\n",
      "  FROM (\n",
      "    SELECT `userid`, `movieid`, `rating`,\n",
      "           CAST(`timestamp` AS timestamp) AS `datetime`\n",
      "    FROM default.`ratings_pq_s3`\n",
      "  ) t3\n",
      "    INNER JOIN default.`movies_pq_s3` t1\n",
      "      ON t3.`movieid` = t1.`movieid`\n",
      ") t0\n",
      "WHERE t0.`userid` = 118205 AND\n",
      "      extract(t0.`datetime`, 'year') > 2001\n",
      "GROUP BY 1\n"
     ]
    },
    {
     "data": {
      "text/plain": [
       "<matplotlib.axes._subplots.AxesSubplot at 0x107f2b978>"
      ]
     },
     "execution_count": 44,
     "metadata": {},
     "output_type": "execute_result"
    },
    {
     "data": {
      "image/png": "[encoded data removed]",
      "text/plain": [
       "<matplotlib.figure.Figure at 0x107ef4a20>"
      ]
     },
     "metadata": {},
     "output_type": "display_data"
    }
   ],
   "source": [
    "# joined3 = joined2.filter([joined2.userid == 118205])\n",
    "joined3 = joined2.filter([joined2.userid == 118205, joined2.datetime.year() > 2001])\n",
    "\n",
    "print(ibis.impala.compile(joined3))\n",
    "top_user_year_counts = joined3.group_by(joined3.datetime.year()).aggregate(total=joined3.count())\n",
    "\n",
    "print('-----------------------------\\n\\n-----------------------------')\n",
    "print(ibis.impala.compile(top_user_year_counts))\n",
    "\n",
    "sns.barplot(x='year', y='total', data=top_user_year_counts.execute())"
   ]
  },
  {
   "cell_type": "markdown",
   "metadata": {},
   "source": [
    "### topユーザの評価の傾向から映画と評価点の分割点を調べる\n",
    "\n",
    "今回は過去の評価データから未来の評価データを予測する。  \n",
    "そのために、バランスよくpositive/negativeデータに分かれる点数を調べる。  \n",
    "何点以上を好みとするかを決める。"
   ]
  },
  {
   "cell_type": "code",
   "execution_count": 45,
   "metadata": {
    "collapsed": false,
    "scrolled": false
   },
   "outputs": [
    {
     "data": {
      "text/plain": [
       "      movieid  rating  year\n",
       "0           1     4.0  2001\n",
       "1           2     4.0  2001\n",
       "2           3     3.0  2001\n",
       "3           4     3.0  2001\n",
       "4           5     3.0  2001\n",
       "5           6     4.0  2001\n",
       "6           7     3.0  2001\n",
       "7           8     4.0  2001\n",
       "8           9     3.0  2001\n",
       "9          10     4.0  2001\n",
       "10         11     3.0  2001\n",
       "11         13     3.0  2009\n",
       "12         14     4.0  2001\n",
       "13         16     4.0  2001\n",
       "14         17     4.0  2001\n",
       "15         18     3.0  2001\n",
       "16         19     3.0  2001\n",
       "17         20     3.0  2001\n",
       "18         21     4.0  2001\n",
       "19         22     3.0  2001\n",
       "20         23     3.0  2001\n",
       "21         24     3.0  2003\n",
       "22         25     4.0  2001\n",
       "23         26     4.0  2001\n",
       "24         27     3.0  2002\n",
       "25         28     4.0  2001\n",
       "26         29     4.0  2001\n",
       "27         30     4.0  2001\n",
       "28         31     3.0  2001\n",
       "29         32     4.0  2001\n",
       "...       ...     ...   ...\n",
       "9224   114146     3.0  2014\n",
       "9225   114217     3.0  2014\n",
       "9226   114398     3.0  2014\n",
       "9227   114400     3.0  2014\n",
       "9228   114455     3.0  2014\n",
       "9229   114624     3.0  2014\n",
       "9230   114696     3.0  2014\n",
       "9231   114721     3.0  2014\n",
       "9232   114807     3.0  2014\n",
       "9233   114809     3.0  2014\n",
       "9234   114859     3.0  2014\n",
       "9235   114861     3.0  2014\n",
       "9236   115078     3.5  2014\n",
       "9237   115139     3.0  2014\n",
       "9238   115160     3.0  2014\n",
       "9239   115247     3.0  2014\n",
       "9240   115249     3.0  2014\n",
       "9241   115251     3.0  2014\n",
       "9242   115254     3.0  2014\n",
       "9243   115256     3.0  2014\n",
       "9244   115258     3.0  2014\n",
       "9245   115333     3.0  2014\n",
       "9246   115335     3.0  2014\n",
       "9247   115337     3.0  2014\n",
       "9248   115339     3.0  2014\n",
       "9249   115341     3.0  2014\n",
       "9250   115343     3.0  2014\n",
       "9251   115386     2.5  2014\n",
       "9252   115388     3.0  2014\n",
       "9253   115409     3.0  2014\n",
       "\n",
       "[9254 rows x 3 columns]"
      ]
     },
     "execution_count": 45,
     "metadata": {},
     "output_type": "execute_result"
    }
   ],
   "source": [
    "top_user_ratings = ratings.filter([ratings.userid == 118205])[ratings.movieid, ratings.rating, ratings.timestamp.cast('timestamp').year()]\n",
    "top_user_ratings"
   ]
  },
  {
   "cell_type": "markdown",
   "metadata": {},
   "source": [
    "点数データの分布から、今回は3.5点以上を好みとする。  \n",
    "なお、2008年以前のデータで学習、2009年以降のデータで評価をする。"
   ]
  },
  {
   "cell_type": "code",
   "execution_count": 46,
   "metadata": {
    "collapsed": false
   },
   "outputs": [
    {
     "data": {
      "text/plain": [
       "<seaborn.axisgrid.JointGrid at 0x108032da0>"
      ]
     },
     "execution_count": 46,
     "metadata": {},
     "output_type": "execute_result"
    },
    {
     "data": {
      "image/png": "[encoded data removed]",
      "text/plain": [
       "<matplotlib.figure.Figure at 0x107c389b0>"
      ]
     },
     "metadata": {},
     "output_type": "display_data"
    }
   ],
   "source": [
    "top_user_rating_df = top_user_ratings[top_user_ratings.rating, top_user_ratings.year].execute()\n",
    "sns.jointplot(x='rating', y='year', data=top_user_rating_df)"
   ]
  },
  {
   "cell_type": "markdown",
   "metadata": {},
   "source": [
    "### 特徴量を抽出する\n",
    "\n",
    "通常、レコメンデーションでは協調フィルタリングをすることが多いが、今回は1人のユーザのモデルベースの推薦をするので、映画に付与されたタグのテキスト情報をもとに特徴量を抽出する。  \n",
    "つまり、テキスト分類の問題として考える。  \n",
    "\n",
    "まず、各ユーザが付与したタグ情報を、映画ID毎に集約する"
   ]
  },
  {
   "cell_type": "code",
   "execution_count": 47,
   "metadata": {
    "collapsed": false,
    "scrolled": true
   },
   "outputs": [
    {
     "data": {
      "text/html": [
       "<div>\n",
       "<table border=\"1\" class=\"dataframe\">\n",
       "  <thead>\n",
       "    <tr style=\"text-align: right;\">\n",
       "      <th></th>\n",
       "      <th>movieid</th>\n",
       "      <th>tag</th>\n",
       "    </tr>\n",
       "  </thead>\n",
       "  <tbody>\n",
       "    <tr>\n",
       "      <th>0</th>\n",
       "      <td>4</td>\n",
       "      <td>chick flick, revenge, characters, chick flick,...</td>\n",
       "    </tr>\n",
       "    <tr>\n",
       "      <th>1</th>\n",
       "      <td>37335</td>\n",
       "      <td>wuxia, 03/10, 06/10, 11/10, kick-butt women, k...</td>\n",
       "    </tr>\n",
       "    <tr>\n",
       "      <th>2</th>\n",
       "      <td>32582</td>\n",
       "      <td>a deadhead with a parrot fetish, parrots, beau...</td>\n",
       "    </tr>\n",
       "    <tr>\n",
       "      <th>3</th>\n",
       "      <td>69689</td>\n",
       "      <td>island, not available from netflix, not on dvd...</td>\n",
       "    </tr>\n",
       "    <tr>\n",
       "      <th>4</th>\n",
       "      <td>4113</td>\n",
       "      <td>author:tennessee williams, john malkovich, pau...</td>\n",
       "    </tr>\n",
       "    <tr>\n",
       "      <th>5</th>\n",
       "      <td>83837</td>\n",
       "      <td>buster keaton, edward f. cline</td>\n",
       "    </tr>\n",
       "    <tr>\n",
       "      <th>6</th>\n",
       "      <td>5045</td>\n",
       "      <td>exploitation, sexploitation, imdb bottom 100, ...</td>\n",
       "    </tr>\n",
       "    <tr>\n",
       "      <th>7</th>\n",
       "      <td>103003</td>\n",
       "      <td>amputation, amputee, b.i.d.d., body dysphoria,...</td>\n",
       "    </tr>\n",
       "    <tr>\n",
       "      <th>8</th>\n",
       "      <td>75818</td>\n",
       "      <td>best of rotten tomatoes: all time, havana mark...</td>\n",
       "    </tr>\n",
       "    <tr>\n",
       "      <th>9</th>\n",
       "      <td>928</td>\n",
       "      <td>adapted from:book, adultery, animal:dog, autho...</td>\n",
       "    </tr>\n",
       "    <tr>\n",
       "      <th>10</th>\n",
       "      <td>43460</td>\n",
       "      <td>postmodern, adaptation, 18th century, gillian ...</td>\n",
       "    </tr>\n",
       "    <tr>\n",
       "      <th>11</th>\n",
       "      <td>116411</td>\n",
       "      <td>zaza urushadze</td>\n",
       "    </tr>\n",
       "    <tr>\n",
       "      <th>12</th>\n",
       "      <td>113145</td>\n",
       "      <td>andré cayatte</td>\n",
       "    </tr>\n",
       "    <tr>\n",
       "      <th>13</th>\n",
       "      <td>4806</td>\n",
       "      <td>criterion, criterion, elmar klos, ján kadár, 1...</td>\n",
       "    </tr>\n",
       "    <tr>\n",
       "      <th>14</th>\n",
       "      <td>103208</td>\n",
       "      <td>poverty</td>\n",
       "    </tr>\n",
       "    <tr>\n",
       "      <th>15</th>\n",
       "      <td>93612</td>\n",
       "      <td>bd-r</td>\n",
       "    </tr>\n",
       "    <tr>\n",
       "      <th>16</th>\n",
       "      <td>76121</td>\n",
       "      <td>christine lakin</td>\n",
       "    </tr>\n",
       "    <tr>\n",
       "      <th>17</th>\n",
       "      <td>60482</td>\n",
       "      <td>coming of age, culture clash, lolita, racism, ...</td>\n",
       "    </tr>\n",
       "    <tr>\n",
       "      <th>18</th>\n",
       "      <td>112778</td>\n",
       "      <td>german, horror, suspense</td>\n",
       "    </tr>\n",
       "    <tr>\n",
       "      <th>19</th>\n",
       "      <td>4450</td>\n",
       "      <td>rape, bijou phillips, nick stahl, true story, ...</td>\n",
       "    </tr>\n",
       "    <tr>\n",
       "      <th>20</th>\n",
       "      <td>119929</td>\n",
       "      <td>arna selznick</td>\n",
       "    </tr>\n",
       "    <tr>\n",
       "      <th>21</th>\n",
       "      <td>2073</td>\n",
       "      <td>road trip adventure, kevin costner, kevin reyn...</td>\n",
       "    </tr>\n",
       "    <tr>\n",
       "      <th>22</th>\n",
       "      <td>92006</td>\n",
       "      <td>reviewed</td>\n",
       "    </tr>\n",
       "    <tr>\n",
       "      <th>23</th>\n",
       "      <td>59016</td>\n",
       "      <td>hugh laurie, keanu reeves, forest whitaker, bo...</td>\n",
       "    </tr>\n",
       "    <tr>\n",
       "      <th>24</th>\n",
       "      <td>26446</td>\n",
       "      <td>documentary, holocaust, oscar (best picture), ...</td>\n",
       "    </tr>\n",
       "    <tr>\n",
       "      <th>25</th>\n",
       "      <td>6156</td>\n",
       "      <td>show business, jackie chan, jackie chan, marti...</td>\n",
       "    </tr>\n",
       "    <tr>\n",
       "      <th>26</th>\n",
       "      <td>45672</td>\n",
       "      <td>be satisfied with your life little man, archit...</td>\n",
       "    </tr>\n",
       "    <tr>\n",
       "      <th>27</th>\n",
       "      <td>25834</td>\n",
       "      <td>adapted from:book, author:rudyard kipling, old...</td>\n",
       "    </tr>\n",
       "    <tr>\n",
       "      <th>28</th>\n",
       "      <td>7080</td>\n",
       "      <td>100 greatest movies, busby berkeley, lloyd bac...</td>\n",
       "    </tr>\n",
       "    <tr>\n",
       "      <th>29</th>\n",
       "      <td>105030</td>\n",
       "      <td>history, native americans</td>\n",
       "    </tr>\n",
       "    <tr>\n",
       "      <th>...</th>\n",
       "      <td>...</td>\n",
       "      <td>...</td>\n",
       "    </tr>\n",
       "    <tr>\n",
       "      <th>19515</th>\n",
       "      <td>70912</td>\n",
       "      <td>ramin bahrani, ramin bahrani, red west, souley...</td>\n",
       "    </tr>\n",
       "    <tr>\n",
       "      <th>19516</th>\n",
       "      <td>110449</td>\n",
       "      <td>amy seimetz, directorial debut, florida, road ...</td>\n",
       "    </tr>\n",
       "    <tr>\n",
       "      <th>19517</th>\n",
       "      <td>48972</td>\n",
       "      <td>jan svankmajer, mental hospital, mental illnes...</td>\n",
       "    </tr>\n",
       "    <tr>\n",
       "      <th>19518</th>\n",
       "      <td>5416</td>\n",
       "      <td>claustrophobic, house arrest, liz phair, robin...</td>\n",
       "    </tr>\n",
       "    <tr>\n",
       "      <th>19519</th>\n",
       "      <td>99744</td>\n",
       "      <td>cast</td>\n",
       "    </tr>\n",
       "    <tr>\n",
       "      <th>19520</th>\n",
       "      <td>103861</td>\n",
       "      <td>anthony wonke, afghanistan</td>\n",
       "    </tr>\n",
       "    <tr>\n",
       "      <th>19521</th>\n",
       "      <td>6143</td>\n",
       "      <td>inspector clouseau (series), peter sellers, pe...</td>\n",
       "    </tr>\n",
       "    <tr>\n",
       "      <th>19522</th>\n",
       "      <td>2026</td>\n",
       "      <td>high school, high school, high school, high sc...</td>\n",
       "    </tr>\n",
       "    <tr>\n",
       "      <th>19523</th>\n",
       "      <td>92309</td>\n",
       "      <td>asthma, atmospheric, characters, horror, hotel...</td>\n",
       "    </tr>\n",
       "    <tr>\n",
       "      <th>19524</th>\n",
       "      <td>46325</td>\n",
       "      <td>bd-r</td>\n",
       "    </tr>\n",
       "    <tr>\n",
       "      <th>19525</th>\n",
       "      <td>102250</td>\n",
       "      <td>martial arts, shaw brothers, wuxia</td>\n",
       "    </tr>\n",
       "    <tr>\n",
       "      <th>19526</th>\n",
       "      <td>42208</td>\n",
       "      <td>adapted from:book, author: vijayadan detha</td>\n",
       "    </tr>\n",
       "    <tr>\n",
       "      <th>19527</th>\n",
       "      <td>3716</td>\n",
       "      <td>drugs, brad dourif</td>\n",
       "    </tr>\n",
       "    <tr>\n",
       "      <th>19528</th>\n",
       "      <td>88652</td>\n",
       "      <td>spanish civil war</td>\n",
       "    </tr>\n",
       "    <tr>\n",
       "      <th>19529</th>\n",
       "      <td>73401</td>\n",
       "      <td>based on a book, cairo, egypt, on dvr</td>\n",
       "    </tr>\n",
       "    <tr>\n",
       "      <th>19530</th>\n",
       "      <td>75434</td>\n",
       "      <td>easily confused with other movie(s) (title)</td>\n",
       "    </tr>\n",
       "    <tr>\n",
       "      <th>19531</th>\n",
       "      <td>3360</td>\n",
       "      <td>sport:basketball, sports competition, basketba...</td>\n",
       "    </tr>\n",
       "    <tr>\n",
       "      <th>19532</th>\n",
       "      <td>90719</td>\n",
       "      <td>slow, clint eastwood, biography, dull, biograp...</td>\n",
       "    </tr>\n",
       "    <tr>\n",
       "      <th>19533</th>\n",
       "      <td>68872</td>\n",
       "      <td>world war ii, criterion, roberto rossellini, i...</td>\n",
       "    </tr>\n",
       "    <tr>\n",
       "      <th>19534</th>\n",
       "      <td>79551</td>\n",
       "      <td>bafta nominated, british, crime, directorial d...</td>\n",
       "    </tr>\n",
       "    <tr>\n",
       "      <th>19535</th>\n",
       "      <td>7477</td>\n",
       "      <td>sylvester stallone, jim gillespie, blizzard, d...</td>\n",
       "    </tr>\n",
       "    <tr>\n",
       "      <th>19536</th>\n",
       "      <td>3155</td>\n",
       "      <td>chow yun fat, book, jodie foster, royalty, jod...</td>\n",
       "    </tr>\n",
       "    <tr>\n",
       "      <th>19537</th>\n",
       "      <td>112138</td>\n",
       "      <td>college, hilarious, self-referential, meta, se...</td>\n",
       "    </tr>\n",
       "    <tr>\n",
       "      <th>19538</th>\n",
       "      <td>108063</td>\n",
       "      <td>tomas alfredson</td>\n",
       "    </tr>\n",
       "    <tr>\n",
       "      <th>19539</th>\n",
       "      <td>7238</td>\n",
       "      <td>murder, not available from netflix, bleak, con...</td>\n",
       "    </tr>\n",
       "    <tr>\n",
       "      <th>19540</th>\n",
       "      <td>36401</td>\n",
       "      <td>boring, heath ledger, matt damon, terry gillia...</td>\n",
       "    </tr>\n",
       "    <tr>\n",
       "      <th>19541</th>\n",
       "      <td>94365</td>\n",
       "      <td>bd-r</td>\n",
       "    </tr>\n",
       "    <tr>\n",
       "      <th>19542</th>\n",
       "      <td>117484</td>\n",
       "      <td>roscoe 'fatty' arbuckle</td>\n",
       "    </tr>\n",
       "    <tr>\n",
       "      <th>19543</th>\n",
       "      <td>4087</td>\n",
       "      <td>betamax</td>\n",
       "    </tr>\n",
       "    <tr>\n",
       "      <th>19544</th>\n",
       "      <td>127323</td>\n",
       "      <td>fake imdb rating, plot holes</td>\n",
       "    </tr>\n",
       "  </tbody>\n",
       "</table>\n",
       "<p>19545 rows × 2 columns</p>\n",
       "</div>"
      ],
      "text/plain": [
       "       movieid                                                tag\n",
       "0            4  chick flick, revenge, characters, chick flick,...\n",
       "1        37335  wuxia, 03/10, 06/10, 11/10, kick-butt women, k...\n",
       "2        32582  a deadhead with a parrot fetish, parrots, beau...\n",
       "3        69689  island, not available from netflix, not on dvd...\n",
       "4         4113  author:tennessee williams, john malkovich, pau...\n",
       "5        83837                     buster keaton, edward f. cline\n",
       "6         5045  exploitation, sexploitation, imdb bottom 100, ...\n",
       "7       103003  amputation, amputee, b.i.d.d., body dysphoria,...\n",
       "8        75818  best of rotten tomatoes: all time, havana mark...\n",
       "9          928  adapted from:book, adultery, animal:dog, autho...\n",
       "10       43460  postmodern, adaptation, 18th century, gillian ...\n",
       "11      116411                                     zaza urushadze\n",
       "12      113145                                      andré cayatte\n",
       "13        4806  criterion, criterion, elmar klos, ján kadár, 1...\n",
       "14      103208                                            poverty\n",
       "15       93612                                               bd-r\n",
       "16       76121                                    christine lakin\n",
       "17       60482  coming of age, culture clash, lolita, racism, ...\n",
       "18      112778                           german, horror, suspense\n",
       "19        4450  rape, bijou phillips, nick stahl, true story, ...\n",
       "20      119929                                      arna selznick\n",
       "21        2073  road trip adventure, kevin costner, kevin reyn...\n",
       "22       92006                                           reviewed\n",
       "23       59016  hugh laurie, keanu reeves, forest whitaker, bo...\n",
       "24       26446  documentary, holocaust, oscar (best picture), ...\n",
       "25        6156  show business, jackie chan, jackie chan, marti...\n",
       "26       45672  be satisfied with your life little man, archit...\n",
       "27       25834  adapted from:book, author:rudyard kipling, old...\n",
       "28        7080  100 greatest movies, busby berkeley, lloyd bac...\n",
       "29      105030                          history, native americans\n",
       "...        ...                                                ...\n",
       "19515    70912  ramin bahrani, ramin bahrani, red west, souley...\n",
       "19516   110449  amy seimetz, directorial debut, florida, road ...\n",
       "19517    48972  jan svankmajer, mental hospital, mental illnes...\n",
       "19518     5416  claustrophobic, house arrest, liz phair, robin...\n",
       "19519    99744                                               cast\n",
       "19520   103861                         anthony wonke, afghanistan\n",
       "19521     6143  inspector clouseau (series), peter sellers, pe...\n",
       "19522     2026  high school, high school, high school, high sc...\n",
       "19523    92309  asthma, atmospheric, characters, horror, hotel...\n",
       "19524    46325                                               bd-r\n",
       "19525   102250                 martial arts, shaw brothers, wuxia\n",
       "19526    42208         adapted from:book, author: vijayadan detha\n",
       "19527     3716                                 drugs, brad dourif\n",
       "19528    88652                                  spanish civil war\n",
       "19529    73401              based on a book, cairo, egypt, on dvr\n",
       "19530    75434        easily confused with other movie(s) (title)\n",
       "19531     3360  sport:basketball, sports competition, basketba...\n",
       "19532    90719  slow, clint eastwood, biography, dull, biograp...\n",
       "19533    68872  world war ii, criterion, roberto rossellini, i...\n",
       "19534    79551  bafta nominated, british, crime, directorial d...\n",
       "19535     7477  sylvester stallone, jim gillespie, blizzard, d...\n",
       "19536     3155  chow yun fat, book, jodie foster, royalty, jod...\n",
       "19537   112138  college, hilarious, self-referential, meta, se...\n",
       "19538   108063                                    tomas alfredson\n",
       "19539     7238  murder, not available from netflix, bleak, con...\n",
       "19540    36401  boring, heath ledger, matt damon, terry gillia...\n",
       "19541    94365                                               bd-r\n",
       "19542   117484                            roscoe 'fatty' arbuckle\n",
       "19543     4087                                            betamax\n",
       "19544   127323                       fake imdb rating, plot holes\n",
       "\n",
       "[19545 rows x 2 columns]"
      ]
     },
     "execution_count": 47,
     "metadata": {},
     "output_type": "execute_result"
    }
   ],
   "source": [
    "movie_tags = tags.group_by(tags.movieid).aggregate(tag=tags.tag.group_concat(', ').lower()).limit(100000)\n",
    "movie_tags.execute()"
   ]
  },
  {
   "cell_type": "markdown",
   "metadata": {},
   "source": [
    "### タグ情報のうち、目的のユーザがみた映画に絞り込む\n",
    "\n",
    "`.isin`を使うと`WHERE...IN`句が使える"
   ]
  },
  {
   "cell_type": "code",
   "execution_count": 48,
   "metadata": {
    "collapsed": false,
    "scrolled": true
   },
   "outputs": [
    {
     "name": "stdout",
     "output_type": "stream",
     "text": [
      "SELECT t0.*\n",
      "FROM (\n",
      "  SELECT `movieid`, lower(group_concat(`tag`, ', ')) AS `tag`\n",
      "  FROM default.`tags_pq_s3`\n",
      "  GROUP BY 1\n",
      "  LIMIT 100000\n",
      ") t0\n",
      "WHERE t0.`movieid` IN (\n",
      "  SELECT `movieid`\n",
      "  FROM (\n",
      "    SELECT *\n",
      "    FROM (\n",
      "      SELECT `movieid`, `rating`,\n",
      "             extract(CAST(`timestamp` AS timestamp), 'year') AS `year`\n",
      "      FROM default.`ratings_pq_s3`\n",
      "      WHERE `userid` = 118205\n",
      "    ) t3\n",
      "    WHERE `rating` >= 3.5 AND\n",
      "          `year` BETWEEN 2002 AND 2008\n",
      "  ) t2\n",
      ")\n"
     ]
    },
    {
     "data": {
      "text/plain": [
       "      movieid                                                tag\n",
       "0          50  organized crime, twist ending, twists & turns,...\n",
       "1          69  stoner, chris tucker, ice cube, funny, friends...\n",
       "2          96                           kenneth branagh, theater\n",
       "3         111  bfi classic, killer-as-protagonist(?), psychop...\n",
       "4         129       nudity (topless - notable), nudity (topless)\n",
       "5         148       nudity (topless - notable), nudity (topless)\n",
       "6         149  amnesia, cerebral, deliberate, haunted by the ...\n",
       "7         210                                                clv\n",
       "8         296  acting, action, black comedy, cult film, drugs...\n",
       "9         363  biography, documentary, filmmaking, german, ho...\n",
       "10        468  british comedy, british, british, comedy, she ...\n",
       "11        495  bfi classic, castration, paradoxically tedious...\n",
       "12        513  radio, show business, george lucas, radio, geo...\n",
       "13        544         bruce willis, bruce willis, seen 2010, clv\n",
       "14        583                                      nanni moretti\n",
       "15        659  alain delon, edgar award (best foreign film), ...\n",
       "16        671  based on a tv show, mst3k, mst3k, hillarious, ...\n",
       "17        731       nudity (topless - notable), nudity (topless)\n",
       "18        865                                  gillies mackinnon\n",
       "19        936  communism, satire, satire, greta garbo, best p...\n",
       "20        943  ghosts/afterlife, i love the depth of love ach...\n",
       "21        954  subgenre:political corruption, topic:us politi...\n",
       "22       1024  disney animated feature, donald duck, seen, (s...\n",
       "23       1066  astaire and rogers, film theory & criticism, m...\n",
       "24       1172  oscar (best foreign language film), centred on...\n",
       "25       1176  melancholy, enigmatic, fanciful, lyrical, medi...\n",
       "26       1221  complex characters, mafia, mafia, jus+san, cla...\n",
       "27       1222  stanley kubrick, military, military, stanley k...\n",
       "28       1257  nostalgic, black comedy, high school, high sch...\n",
       "29       1268  society, suicide, nostalgic, censorship, chris...\n",
       "...       ...                                                ...\n",
       "1769    55276  'i love you anna!', tilda swinton, corporate e...\n",
       "1770    55451  emily blunt, hugh dancy, jimmy smits, maria be...\n",
       "1771    55805  f*ck your brother's wife and live longer, albe...\n",
       "1772    55814  foreign language, beautiful, biomedical ethics...\n",
       "1773    55820  'heads or tails...call it', coen brothers, tom...\n",
       "1774    55895  vistavision, less than 300 ratings, humphrey b...\n",
       "1775    56339  twist ending, foreign language, haunted by the...\n",
       "1776    56508       less than 300 ratings, legacy, andrew wagner\n",
       "1777    56607  adapted from:book, author:khaled hosseini, chi...\n",
       "1778    56885  denzel washington, forest whitaker, predictabl...\n",
       "1779    56949  chick movie, judy greer, katherine heigl, chic...\n",
       "1780    57480                           silent, john ford, dvd-r\n",
       "1781    58494  1940s, adapted from:book, author:john bingham,...\n",
       "1782    59018  beautiful, discrimination, heavy-handed, immig...\n",
       "1783    59141  bullying, childhood, exchange student, nursing...\n",
       "1784    59858                              john ford, might like\n",
       "1785    60069  quirky, sci-fi, animation, watched, post apoca...\n",
       "1786    60289  1930s, great depression, american girl, teenag...\n",
       "1787    60309                                               bd-r\n",
       "1788    60647  ben kingsley, berlinale 2008, kate mara, great...\n",
       "1789    61967  yasujiro ozu, criterion, yasujirô ozu, 60s, al...\n",
       "1790    62153  british new wave, tony richardson, based on a ...\n",
       "1791    63688                                                clv\n",
       "1792    63772                                    budd boetticher\n",
       "1793    63793                                          john ford\n",
       "1794    64519  courtroom drama, docudrama, protagonist is jou...\n",
       "1795    64839  mickey 'the stretch' rourke, nudity (topless),...\n",
       "1796    64895                                       roy del ruth\n",
       "1797    64903  nazis, propaganda, world war ii, adolf hitler,...\n",
       "1798    64906  propaganda, world war ii, adolf hitler, aerial...\n",
       "\n",
       "[1799 rows x 2 columns]"
      ]
     },
     "execution_count": 48,
     "metadata": {},
     "output_type": "execute_result"
    }
   ],
   "source": [
    "expr = movie_tags[movie_tags.movieid.isin(top_user_ratings.filter([top_user_ratings.rating >= 3.5, top_user_ratings.year.between(2002, 2008)]).movieid)]\n",
    "print(ibis.impala.compile(expr))\n",
    "expr"
   ]
  },
  {
   "cell_type": "code",
   "execution_count": 49,
   "metadata": {
    "collapsed": false
   },
   "outputs": [],
   "source": [
    "# データの偏りを考慮して、3.5以上をpositive, 未満をnegativeとする\n",
    "old_pos_tags = movie_tags[movie_tags.movieid.isin(top_user_ratings.filter([top_user_ratings.rating >= 3.5, top_user_ratings.year.between(2002, 2008)]).movieid)].tag.execute()\n",
    "old_neg_tags = movie_tags[movie_tags.movieid.isin(top_user_ratings.filter([top_user_ratings.rating < 3.5, top_user_ratings.year.between(2002, 2008)]).movieid)].tag.execute()\n",
    "new_pos_tags = movie_tags[movie_tags.movieid.isin(top_user_ratings.filter([top_user_ratings.rating >= 3.5, top_user_ratings.year > 2008]).movieid)].tag.execute()\n",
    "new_neg_tags = movie_tags[movie_tags.movieid.isin(top_user_ratings.filter([top_user_ratings.rating < 3.5, top_user_ratings.year > 2008]).movieid)].tag.execute()"
   ]
  },
  {
   "cell_type": "code",
   "execution_count": 50,
   "metadata": {
    "collapsed": false
   },
   "outputs": [],
   "source": [
    "# 好きな映画を`1`、嫌いな映画を`-1`として、正解ラベルデータを作る\n",
    "import pandas as pd\n",
    "\n",
    "old_tag_labels = [1] * len(old_pos_tags) + [-1] * len(old_neg_tags)\n",
    "new_tag_labels = [1] * len(new_pos_tags) + [-1] * len(new_neg_tags)\n",
    "\n",
    "old_tags = pd.concat([old_pos_tags, old_neg_tags], ignore_index=True)\n",
    "new_tags = pd.concat([new_pos_tags, new_neg_tags], ignore_index=True)"
   ]
  },
  {
   "cell_type": "markdown",
   "metadata": {},
   "source": [
    "### scikit-learnでロジスティック回帰を使って学習する\n",
    "\n",
    "`CountVectorizer`を使うことで、テキストの頻度ベースのベクトルを作れる。  \n",
    "今回は、Bag of Wordsで特徴ベクトルを作成する。"
   ]
  },
  {
   "cell_type": "code",
   "execution_count": 51,
   "metadata": {
    "collapsed": false
   },
   "outputs": [
    {
     "data": {
      "text/plain": [
       "Pipeline(steps=[('vect', CountVectorizer(analyzer='word', binary=True, decode_error='strict',\n",
       "        dtype=<class 'numpy.int64'>, encoding='utf-8', input='content',\n",
       "        lowercase=True, max_df=1.0, max_features=None, min_df=1,\n",
       "        ngram_range=(1, 1), preprocessor=None, stop_words=None,\n",
       "        strip_...alty='l2', random_state=42, solver='liblinear', tol=0.0001,\n",
       "          verbose=0, warm_start=False))])"
      ]
     },
     "execution_count": 51,
     "metadata": {},
     "output_type": "execute_result"
    }
   ],
   "source": [
    "from sklearn.feature_extraction.text import CountVectorizer\n",
    "from sklearn.linear_model import LogisticRegression\n",
    "from sklearn.pipeline import Pipeline\n",
    "\n",
    "clf = Pipeline([\n",
    "        ('vect', CountVectorizer(binary=True)),\n",
    "        ('clf', LogisticRegression(random_state=42))\n",
    "    ])\n",
    "clf.fit(old_tags, old_tag_labels)"
   ]
  },
  {
   "cell_type": "code",
   "execution_count": 53,
   "metadata": {
    "collapsed": false
   },
   "outputs": [
    {
     "data": {
      "text/plain": [
       "array([1])"
      ]
     },
     "execution_count": 53,
     "metadata": {},
     "output_type": "execute_result"
    }
   ],
   "source": [
    "# 新しい映画の1つ目（positive = 1）を予測\n",
    "clf.predict([new_tags.iloc[1]])"
   ]
  },
  {
   "cell_type": "code",
   "execution_count": 54,
   "metadata": {
    "collapsed": false
   },
   "outputs": [
    {
     "data": {
      "text/plain": [
       "array([-1])"
      ]
     },
     "execution_count": 54,
     "metadata": {},
     "output_type": "execute_result"
    }
   ],
   "source": [
    "# 新しい映画の最後（negative = -1）を予測\n",
    "clf.predict([new_tags.iloc[-1]])"
   ]
  },
  {
   "cell_type": "code",
   "execution_count": 55,
   "metadata": {
    "collapsed": false
   },
   "outputs": [
    {
     "name": "stdout",
     "output_type": "stream",
     "text": [
      "             precision    recall  f1-score   support\n",
      "\n",
      "         -1       0.67      0.84      0.74       951\n",
      "          1       0.71      0.47      0.57       763\n",
      "\n",
      "avg / total       0.68      0.68      0.67      1714\n",
      "\n"
     ]
    },
    {
     "data": {
      "text/plain": [
       "0.5664830841856805"
      ]
     },
     "execution_count": 55,
     "metadata": {},
     "output_type": "execute_result"
    }
   ],
   "source": [
    "from sklearn.metrics import classification_report, f1_score\n",
    "\n",
    "new_pred_labels = clf.predict(new_tags)\n",
    "print(classification_report(new_tag_labels, new_pred_labels))\n",
    "f1_score(new_tag_labels, new_pred_labels)"
   ]
  },
  {
   "cell_type": "markdown",
   "metadata": {},
   "source": [
    "### scikit-learnで線形SVMを使って学習する\n",
    "\n",
    "アルゴリズムをSVMを使って学習する。その際に、`GridSearchCV`を使ってパラメータ探索をする。"
   ]
  },
  {
   "cell_type": "code",
   "execution_count": 56,
   "metadata": {
    "collapsed": false
   },
   "outputs": [
    {
     "name": "stdout",
     "output_type": "stream",
     "text": [
      "\n",
      "+ Best parameters:\n",
      "\n",
      "Pipeline(steps=[('vect', CountVectorizer(analyzer='word', binary=True, decode_error='strict',\n",
      "        dtype=<class 'numpy.int64'>, encoding='utf-8', input='content',\n",
      "        lowercase=True, max_df=1.0, max_features=None, min_df=1,\n",
      "        ngram_range=(1, 1), preprocessor=None, stop_words=None,\n",
      "        strip_...r',\n",
      "  max_iter=-1, probability=False, random_state=42, shrinking=True,\n",
      "  tol=0.001, verbose=False))])\n",
      "\n",
      "+ Average score with CV of traning data set:\n",
      "\n",
      "0.617 (+/- 0.026) for {'clf__C': 0.01}\n",
      "0.667 (+/- 0.020) for {'clf__C': 0.1}\n",
      "0.660 (+/- 0.011) for {'clf__C': 1}\n",
      "0.645 (+/- 0.017) for {'clf__C': 10}\n",
      "\n",
      "+ Predict report of test data set:\n",
      "\n",
      "             precision    recall  f1-score   support\n",
      "\n",
      "         -1       0.65      0.89      0.75       951\n",
      "          1       0.75      0.41      0.53       763\n",
      "\n",
      "avg / total       0.70      0.68      0.65      1714\n",
      "\n"
     ]
    }
   ],
   "source": [
    "from sklearn.svm import SVC\n",
    "from sklearn.grid_search import GridSearchCV\n",
    "from sklearn.metrics import classification_report, confusion_matrix\n",
    "\n",
    "pl2 = Pipeline([\n",
    "        ('vect', CountVectorizer(binary=True)),\n",
    "        ('clf', SVC(kernel='linear', random_state=42))\n",
    "    ])\n",
    "param_grid = dict(clf__C=[0.01, 0.1, 1, 10])\n",
    "\n",
    "clf = GridSearchCV(pl2, param_grid=param_grid, cv=5, scoring='f1', n_jobs=-1)\n",
    "clf.fit(old_tags, old_tag_labels)\n",
    "\n",
    "print(\"\\n+ Best parameters:\\n\")\n",
    "print(clf.best_estimator_)\n",
    "\n",
    "print(\"\\n+ Average score with CV of traning data set:\\n\")\n",
    "for params, mean_score, all_scores in clf.grid_scores_:\n",
    "    print(\"{:.3f} (+/- {:.3f}) for {}\".format(mean_score, all_scores.std() / 2, params))\n",
    "\n",
    "print(\"\\n+ Predict report of test data set:\\n\")\n",
    "y_true, y_pred = new_tag_labels, clf.predict(new_tags)\n",
    "print(classification_report(y_true, y_pred))"
   ]
  },
  {
   "cell_type": "markdown",
   "metadata": {},
   "source": [
    "### Furture works\n",
    "\n",
    "[spark-sklearn](https://github.com/databricks/spark-sklearn)を使うことで、`GridSearchCV`を使ったパラメータ探索をsparkで分散して行える。  \n",
    "なおspark-sklearnには、`LogisticRegression`と`LinearRegression`はSparkのRDDに変換するメソッドがある。"
   ]
  }
 ],
 "metadata": {
  "kernelspec": {
   "display_name": "Python 3",
   "language": "python",
   "name": "python3"
  },
  "language_info": {
   "codemirror_mode": {
    "name": "ipython",
    "version": 3
   },
   "file_extension": ".py",
   "mimetype": "text/x-python",
   "name": "python",
   "nbconvert_exporter": "python",
   "pygments_lexer": "ipython3",
   "version": "3.5.1"
  },
  "widgets": {
   "state": {},
   "version": "1.1.2"
  }
 },
 "nbformat": 4,
 "nbformat_minor": 0
}
